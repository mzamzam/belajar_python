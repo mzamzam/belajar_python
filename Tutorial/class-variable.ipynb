{
 "cells": [
  {
   "cell_type": "markdown",
   "metadata": {},
   "source": [
    "# Class variabel"
   ]
  },
  {
   "cell_type": "markdown",
   "metadata": {},
   "source": [
    "## Kenaikan Gaji"
   ]
  },
  {
   "cell_type": "markdown",
   "metadata": {},
   "source": [
    "Contoh sebuah kelas (dari tutorial class-instance ditambahkan `method` atau fungsi pengali kenaikan gaji):"
   ]
  },
  {
   "cell_type": "code",
   "execution_count": 9,
   "metadata": {
    "ExecuteTime": {
     "end_time": "2020-04-13T07:20:54.239323Z",
     "start_time": "2020-04-13T07:20:54.223037Z"
    }
   },
   "outputs": [],
   "source": [
    "class Employee:\n",
    "    \n",
    "    def __init__(self, first, last, pay):\n",
    "        self.pertama = first\n",
    "        self.akhir = last\n",
    "        self.gaji = pay\n",
    "        self.email = first + '.' + last + '.' + '@company.com'\n",
    "        \n",
    "    def fullname(self):\n",
    "        return '{} {}'.format(self.pertama,self.akhir)\n",
    "    \n",
    "    def apply_raise(self):\n",
    "        self.gaji = int(self.gaji *1.04)\n",
    "\n",
    "emp_1 = Employee('Muhamad','Zamzam', 5000)\n",
    "emp_2 = Employee('Asti','Rahmatika', 6000)"
   ]
  },
  {
   "cell_type": "code",
   "execution_count": 10,
   "metadata": {
    "ExecuteTime": {
     "end_time": "2020-04-13T07:20:54.842630Z",
     "start_time": "2020-04-13T07:20:54.836645Z"
    }
   },
   "outputs": [
    {
     "name": "stdout",
     "output_type": "stream",
     "text": [
      "5000\n",
      "5200\n"
     ]
    }
   ],
   "source": [
    "print(emp_1.gaji)\n",
    "emp_1.apply_raise()\n",
    "print(emp_1.gaji)"
   ]
  },
  {
   "cell_type": "markdown",
   "metadata": {},
   "source": [
    "Cara di atas benar, namun tidak efektif untuk semua karyawan dengan kenaikan gaji sama karena besar kenaikan gaji ada di dalam metode. Harusnya angka kenaikan gaji dijadikan variabel kelas seperti ini. Jangan lupa variabel kelas tersebut harus setelah nama kelas atau instance."
   ]
  },
  {
   "cell_type": "code",
   "execution_count": 22,
   "metadata": {
    "ExecuteTime": {
     "end_time": "2020-04-13T07:41:48.413200Z",
     "start_time": "2020-04-13T07:41:48.379616Z"
    }
   },
   "outputs": [],
   "source": [
    "class Employee:\n",
    "    kenaikan_gaji = 1.04\n",
    "    def __init__(self, first, last, pay):\n",
    "        self.pertama = first\n",
    "        self.akhir = last\n",
    "        self.gaji = pay\n",
    "        self.email = first + '.' + last + '.' + '@company.com'\n",
    "        \n",
    "    def fullname(self):\n",
    "        return '{} {}'.format(self.pertama,self.akhir)\n",
    "    \n",
    "    def apply_raise(self):\n",
    "        self.gaji = int(self.gaji * self.kenaikan_gaji) #bisa juga Employee.kenaikan_gaji, coba!\n",
    "\n",
    "emp_1 = Employee('Muhamad','Zamzam', 5000)\n",
    "emp_2 = Employee('Asti','Rahmatika', 6000)"
   ]
  },
  {
   "cell_type": "code",
   "execution_count": 23,
   "metadata": {
    "ExecuteTime": {
     "end_time": "2020-04-13T07:41:49.839394Z",
     "start_time": "2020-04-13T07:41:49.833399Z"
    }
   },
   "outputs": [
    {
     "name": "stdout",
     "output_type": "stream",
     "text": [
      "5000\n",
      "5200\n"
     ]
    }
   ],
   "source": [
    "print(emp_1.gaji)\n",
    "emp_1.apply_raise()\n",
    "print(emp_1.gaji)"
   ]
  },
  {
   "cell_type": "code",
   "execution_count": 24,
   "metadata": {
    "ExecuteTime": {
     "end_time": "2020-04-13T07:41:55.197372Z",
     "start_time": "2020-04-13T07:41:55.188402Z"
    }
   },
   "outputs": [
    {
     "name": "stdout",
     "output_type": "stream",
     "text": [
      "1.04\n",
      "1.04\n",
      "1.04\n"
     ]
    }
   ],
   "source": [
    "print(Employee.kenaikan_gaji)\n",
    "print(emp_1.kenaikan_gaji)\n",
    "print(emp_2.kenaikan_gaji)"
   ]
  },
  {
   "cell_type": "markdown",
   "metadata": {},
   "source": [
    "Dari contoh di atas variabel kelas kenaikan_gaji bukan termasuk atribut instance emp_1 atau emp_2, untuk mengetahui suatu atribut milik instance tertentu ketik:"
   ]
  },
  {
   "cell_type": "code",
   "execution_count": 25,
   "metadata": {
    "ExecuteTime": {
     "end_time": "2020-04-13T07:41:57.732521Z",
     "start_time": "2020-04-13T07:41:57.722478Z"
    }
   },
   "outputs": [
    {
     "data": {
      "text/plain": [
       "{'pertama': 'Muhamad',\n",
       " 'akhir': 'Zamzam',\n",
       " 'gaji': 5200,\n",
       " 'email': 'Muhamad.Zamzam.@company.com'}"
      ]
     },
     "execution_count": 25,
     "metadata": {},
     "output_type": "execute_result"
    }
   ],
   "source": [
    "emp_1.__dict__"
   ]
  },
  {
   "cell_type": "markdown",
   "metadata": {},
   "source": [
    "Namun meskipun bukan punya instance, variabel kelas tetap bisa diubah secara lokal:"
   ]
  },
  {
   "cell_type": "code",
   "execution_count": 26,
   "metadata": {
    "ExecuteTime": {
     "end_time": "2020-04-13T07:42:00.132644Z",
     "start_time": "2020-04-13T07:42:00.125012Z"
    }
   },
   "outputs": [],
   "source": [
    "emp_1.kenaikan_gaji = 1.05"
   ]
  },
  {
   "cell_type": "code",
   "execution_count": 27,
   "metadata": {
    "ExecuteTime": {
     "end_time": "2020-04-13T07:42:02.999441Z",
     "start_time": "2020-04-13T07:42:02.989719Z"
    }
   },
   "outputs": [
    {
     "name": "stdout",
     "output_type": "stream",
     "text": [
      "1.04\n",
      "1.05\n",
      "1.04\n"
     ]
    },
    {
     "data": {
      "text/plain": [
       "{'pertama': 'Muhamad',\n",
       " 'akhir': 'Zamzam',\n",
       " 'gaji': 5200,\n",
       " 'email': 'Muhamad.Zamzam.@company.com',\n",
       " 'kenaikan_gaji': 1.05}"
      ]
     },
     "execution_count": 27,
     "metadata": {},
     "output_type": "execute_result"
    }
   ],
   "source": [
    "print(Employee.kenaikan_gaji)\n",
    "print(emp_1.kenaikan_gaji)\n",
    "print(emp_2.kenaikan_gaji)\n",
    "emp_1.__dict__"
   ]
  },
  {
   "cell_type": "markdown",
   "metadata": {},
   "source": [
    "Nah sekarang kenaikan_gaji menjadi atribut emp_1. Jadi secara tidak langsung syntax emp_1.kenaikan_gaji membuat atribut baru untuk instance emp_1."
   ]
  },
  {
   "cell_type": "markdown",
   "metadata": {},
   "source": [
    "Untuk mengubah secara global varibel kelas, ketik:"
   ]
  },
  {
   "cell_type": "code",
   "execution_count": 28,
   "metadata": {
    "ExecuteTime": {
     "end_time": "2020-04-13T07:42:08.306074Z",
     "start_time": "2020-04-13T07:42:08.288767Z"
    }
   },
   "outputs": [
    {
     "name": "stdout",
     "output_type": "stream",
     "text": [
      "1.05\n",
      "1.05\n",
      "1.05\n"
     ]
    }
   ],
   "source": [
    "Employee.kenaikan_gaji = 1.05\n",
    "print(Employee.kenaikan_gaji)\n",
    "print(emp_1.kenaikan_gaji)\n",
    "print(emp_2.kenaikan_gaji)\n"
   ]
  },
  {
   "cell_type": "markdown",
   "metadata": {},
   "source": [
    "## Jumlah karyawan"
   ]
  },
  {
   "cell_type": "markdown",
   "metadata": {},
   "source": [
    "Contoh lainnya untuk menjelaskan tentang variabel kelas misal jumlah karyawan. Setiap kali ada penambahan karyawan, otomatis akan dihitung. Disini variabel kelas jumlah_karyawan ditempatkan di dalam init_method karena saat kelas Employee dijalankan init_method pasti akan terpanggil juga dan itu yang kita harapkan saat akan menjumlahkan karyawan. Beda halnya dengan variabel kelas kenaikan_gaji yang dipanggil dalam method (fungsi) apply_raise tidak dalam init_method. Hal ini dikarenakan variabel kelas kenaikan_gaji tidak serta merta diterima pada waktu yang sama oleh setiap pegawai (karena kan masa kerja serta prestasi tiap pegawai juga berbeda) hanya pegawai tertentu saja yang akan dapat kenaikan gaji. Oleh karena itu, tiap karyawan yang akan naik gaji harus memanggil dulu method apply_raise()."
   ]
  },
  {
   "cell_type": "code",
   "execution_count": 34,
   "metadata": {
    "ExecuteTime": {
     "end_time": "2020-04-13T07:52:10.851717Z",
     "start_time": "2020-04-13T07:52:10.828371Z"
    }
   },
   "outputs": [
    {
     "name": "stdout",
     "output_type": "stream",
     "text": [
      "2\n"
     ]
    }
   ],
   "source": [
    "class Employee:\n",
    "    jumlah_karyawan = 0\n",
    "    kenaikan_gaji = 1.04\n",
    "    def __init__(self, first, last, pay):\n",
    "        self.pertama = first\n",
    "        self.akhir = last\n",
    "        self.gaji = pay\n",
    "        self.email = first + '.' + last + '.' + '@company.com'\n",
    "        Employee.jumlah_karyawan += 1\n",
    "        \n",
    "    def fullname(self):\n",
    "        return '{} {}'.format(self.pertama,self.akhir)\n",
    "    \n",
    "    def apply_raise(self):\n",
    "        self.gaji = int(self.gaji * self.kenaikan_gaji) #bisa juga Employee.kenaikan_gaji, coba!\n",
    "\n",
    "emp_1 = Employee('Muhamad','Zamzam', 5000)\n",
    "emp_2 = Employee('Asti','Rahmatika', 6000)\n",
    "\n",
    "print(Employee.jumlah_karyawan)"
   ]
  },
  {
   "cell_type": "code",
   "execution_count": 35,
   "metadata": {
    "ExecuteTime": {
     "end_time": "2020-04-13T07:52:11.714790Z",
     "start_time": "2020-04-13T07:52:11.702243Z"
    }
   },
   "outputs": [
    {
     "name": "stdout",
     "output_type": "stream",
     "text": [
      "3\n"
     ]
    }
   ],
   "source": [
    "emp_3 = Employee('Najma','Nurilmi',1000)\n",
    "\n",
    "print(Employee.jumlah_karyawan)"
   ]
  },
  {
   "cell_type": "markdown",
   "metadata": {},
   "source": [
    "Jika Employee.jumlah_karyawan disimpan sebelum emp_1 maka hasilnya akan nol. Lalu jika ada penambahan karyawan misal emp_3 maka jumlah karyawan akan otomatis menjadi 3."
   ]
  }
 ],
 "metadata": {
  "kernelspec": {
   "display_name": "Python 3",
   "language": "python",
   "name": "python3"
  },
  "language_info": {
   "codemirror_mode": {
    "name": "ipython",
    "version": 3
   },
   "file_extension": ".py",
   "mimetype": "text/x-python",
   "name": "python",
   "nbconvert_exporter": "python",
   "pygments_lexer": "ipython3",
   "version": "3.7.4"
  },
  "toc": {
   "base_numbering": 1,
   "nav_menu": {},
   "number_sections": true,
   "sideBar": true,
   "skip_h1_title": false,
   "title_cell": "Table of Contents",
   "title_sidebar": "Contents",
   "toc_cell": false,
   "toc_position": {},
   "toc_section_display": true,
   "toc_window_display": false
  }
 },
 "nbformat": 4,
 "nbformat_minor": 4
}
