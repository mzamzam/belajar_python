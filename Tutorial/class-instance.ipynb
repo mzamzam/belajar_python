{
 "cells": [
  {
   "cell_type": "markdown",
   "metadata": {},
   "source": [
    "# Class instance\n",
    "\n",
    "[sumber](https://www.youtube.com/watch?v=ZDa-Z5JzLYM)"
   ]
  },
  {
   "cell_type": "markdown",
   "metadata": {},
   "source": [
    "Topik pembahasan meliputi\n",
    "- Fungsi `class`.\n",
    "- Pengertian `attributes` dan `methods`.\n",
    "- Membuat `class`.\n",
    "- Perbedaan `class` dengan `instance class`.\n",
    "- Konsep `object-oriented` dalam python."
   ]
  },
  {
   "cell_type": "markdown",
   "metadata": {},
   "source": [
    "Kelas dibuat untuk mengelompokkan data dan fungsi agar mudah digunakan kembali dan akan lebih mudah untuk dikembangkan jika perlu. Hampir semua bahas pemrograman modern mempunyai syntax kelas. Data dan fungsi dalam kelas spesifik yang dimaksudkan di atas adalah `attributes` dan `method`. Jadi `method` adalah sebuah fungsi yang berasosiasi dengan sebuah kelas. Sedangkan `attributes` adalah data yang berasosiasi dengan sebuah fungsi dalam kelas. \n",
    "\n",
    "Sebagai contoh, seorang karyawan dalam suatu perusahaan dapat dianggap sebagai sebuah `class` dalam python. Karyawan tersebut pasti punya karakter yang digambarkan oleh python sebagai `attributes` dan `methods`. Karakter yang dimaksud misalnya, nama depan, nama akhir, alamat email, gaji serta suatu kegiatan yang biasa dilakukan. Bayangkan jika perusahaan tersebut punya ribuan karyawan. Kelas dalam python bisa disebut sebagai blueprint untuk menggambarkan seluruh karyawan. Berikut ini ada contoh `class`:"
   ]
  },
  {
   "cell_type": "code",
   "execution_count": 1,
   "metadata": {},
   "outputs": [
    {
     "name": "stdout",
     "output_type": "stream",
     "text": [
      "<__main__.Employee object at 0x00000220A2714708>\n",
      "<__main__.Employee object at 0x00000220A2714748>\n"
     ]
    }
   ],
   "source": [
    "class Employee: #contoh sebuah kelas tanpa atribut dan metod\n",
    "    pass #untuk yang belum ada isinya biar tidak error\n",
    "emp_1 = Employee() #ini disebut instance\n",
    "emp_2 = Employee()\n",
    "print(emp_1)\n",
    "print(emp_2) # ini merupakan objek employee\n"
   ]
  },
  {
   "cell_type": "markdown",
   "metadata": {},
   "source": [
    "Bedanya kelas dengan instance kelas adalah kelas merupakan blueprint untuk membuat instance kelas. Karakteristik unik setiap karyawan yang dibuat dengan kelas adalah instance kelas. Dari contoh di atas, Employee adalah kelas sedangkan emp_1 dan emp_2 adalah instance kelas yang punya lokasi dalam memori yang berbeda. emp_1 dan emp_2 disebut juga objek dari kelas Employee. \n",
    "\n",
    "Instance variabel adalah data unik untuk setiap instance kelas. emp_1.first dan emp_1.last merupakan contoh dari instance variable dari instance kelas emp_1."
   ]
  },
  {
   "cell_type": "code",
   "execution_count": 2,
   "metadata": {},
   "outputs": [
    {
     "name": "stdout",
     "output_type": "stream",
     "text": [
      "muhamad.nurzaman@gmail.com\n"
     ]
    }
   ],
   "source": [
    "emp_1.first = 'muhamad'\n",
    "emp_1.last = 'nurzaman'\n",
    "emp_1.email = 'muhamad.nurzaman@gmail.com'\n",
    "emp_1.pay = 50000\n",
    "\n",
    "emp_2.first = 'zam'\n",
    "emp_2.last = 'zam'\n",
    "emp_2.email = 'zam.zam@gmail.com'\n",
    "emp_2.pay = 30000\n",
    "\n",
    "print(emp_1.email)"
   ]
  },
  {
   "cell_type": "markdown",
   "metadata": {},
   "source": [
    "Akan menyulitkan jika jumlah karyawan mencapai ribuan dan kita harus membuat instance variabel secara manual seperti di atas. Solusinya adalah dengan membuat init method dalam kelas Employee. Init method merupakan inisialisasi dalam kelas python atau dalam bahasa lain biasa disebut konstruktor.\n",
    "\n",
    "Saat membuat metode dalam kelas, instance akan otomatis menjadi argument pertama metode tsb. Instance tersebut disebut self. Setelah itu kita bisa menambahkan argumen lainnya seperti nama pertama, nama terakhir, gaji dsb seperti contoh di bawah. Selanjutnya adalah mendefinisikan masing-masing argument tsb. "
   ]
  },
  {
   "cell_type": "code",
   "execution_count": 3,
   "metadata": {},
   "outputs": [],
   "source": [
    "class Employee:\n",
    "    def __init__(self, first, last, pay):\n",
    "        self.first = first #tidak harus sama, bisa self.fname = first.\n",
    "        self.last = last\n",
    "        self.pay = pay\n",
    "        self.email = first + '.' + last + '@gmail.com'"
   ]
  },
  {
   "cell_type": "markdown",
   "metadata": {},
   "source": [
    "Yang dimaksud self sebagai instance adalah self.first artinya sama dengan emp_1.first atau emp_2.first dst. Atau dengan kata lain self.first adalah bentuk umum dari instance kelas (emp_1, emp_2 dst). \n",
    "\n",
    "Saat membuat instance kelas dengan kelas di atas, kita hanya perlu menyebutkan argumennya saja, sedangkan instance self sudah dipanggil otomatis dan tidak perlu disebutkan lagi."
   ]
  },
  {
   "cell_type": "code",
   "execution_count": 4,
   "metadata": {},
   "outputs": [
    {
     "name": "stdout",
     "output_type": "stream",
     "text": [
      "Muhamad.Nurzaman@gmail.com\n",
      "zam.zam@gmail.com\n"
     ]
    }
   ],
   "source": [
    "emp_1 = Employee('Muhamad', 'Nurzaman', 50000)\n",
    "emp_2 = Employee('zam','zam',60000)\n",
    "print(emp_1.email)\n",
    "print(emp_2.email)"
   ]
  },
  {
   "cell_type": "markdown",
   "metadata": {},
   "source": [
    "Untuk mengetahui nama lengkapnya, cara manualnya bisa dengan:"
   ]
  },
  {
   "cell_type": "code",
   "execution_count": 5,
   "metadata": {},
   "outputs": [
    {
     "name": "stdout",
     "output_type": "stream",
     "text": [
      "Muhamad Nurzaman\n"
     ]
    }
   ],
   "source": [
    "print('{} {}'.format(emp_1.first, emp_1.last))"
   ]
  },
  {
   "cell_type": "markdown",
   "metadata": {},
   "source": [
    "Namun cara di atas tidak praktis. Cara praktisnya adalah dengan membuat method baru dalam kelas Employee."
   ]
  },
  {
   "cell_type": "code",
   "execution_count": 6,
   "metadata": {},
   "outputs": [],
   "source": [
    "class Employee:\n",
    "    def __init__(self, first, last, pay):\n",
    "        self.first = first #tidak harus sama, bisa self.fname = first.\n",
    "        self.last = last\n",
    "        self.pay = pay\n",
    "        self.email = first + '.' + last + '@gmail.com'\n",
    "    \n",
    "    def fullname(self):\n",
    "        return('{} {}'.format(self.first, self.last)) #self disini berfungsi agar berlaku untuk semua instances"
   ]
  },
  {
   "cell_type": "code",
   "execution_count": 7,
   "metadata": {},
   "outputs": [
    {
     "name": "stdout",
     "output_type": "stream",
     "text": [
      "Muhamad Nurzaman\n",
      "Muhamad.Nurzaman@gmail.com\n"
     ]
    }
   ],
   "source": [
    "emp_1 = Employee('Muhamad', 'Nurzaman', 50000)\n",
    "emp_2 = Employee('zam','zam',60000)\n",
    "\n",
    "print(emp_1.fullname())\n",
    "print(emp_1.email)"
   ]
  },
  {
   "cell_type": "markdown",
   "metadata": {},
   "source": [
    "Perpu diingat, setelah fullname harus ada '()' karena merupakan metode bukan atribut. Jika setelah suatu metode tidak ada '()' maka akan eror. Contoh atribut adalah emp_1.email tanpa tanda '()' diakhir."
   ]
  },
  {
   "cell_type": "code",
   "execution_count": 8,
   "metadata": {},
   "outputs": [
    {
     "name": "stdout",
     "output_type": "stream",
     "text": [
      "<bound method Employee.fullname of <__main__.Employee object at 0x00000220A2703D08>>\n"
     ]
    }
   ],
   "source": [
    "print(emp_2.fullname)"
   ]
  },
  {
   "cell_type": "code",
   "execution_count": 9,
   "metadata": {},
   "outputs": [
    {
     "name": "stdout",
     "output_type": "stream",
     "text": [
      "zam zam\n"
     ]
    }
   ],
   "source": [
    "print(emp_2.fullname())"
   ]
  },
  {
   "cell_type": "markdown",
   "metadata": {},
   "source": [
    "Begitu seterusnya untuk karyawan atau instance kelas lainnya."
   ]
  },
  {
   "cell_type": "markdown",
   "metadata": {},
   "source": [
    "Salah satu kesalahan yang sering terjadi adalah lupa menambahkan self dalam suatu metode. Jika tidak ada self, maka akan muncul pesan eror seperti di bawah."
   ]
  },
  {
   "cell_type": "code",
   "execution_count": 10,
   "metadata": {},
   "outputs": [
    {
     "ename": "TypeError",
     "evalue": "fullname() takes 0 positional arguments but 1 was given",
     "output_type": "error",
     "traceback": [
      "\u001b[1;31m---------------------------------------------------------------------------\u001b[0m",
      "\u001b[1;31mTypeError\u001b[0m                                 Traceback (most recent call last)",
      "\u001b[1;32m<ipython-input-10-fe30f42f5d66>\u001b[0m in \u001b[0;36m<module>\u001b[1;34m\u001b[0m\n\u001b[0;32m     10\u001b[0m \u001b[1;33m\u001b[0m\u001b[0m\n\u001b[0;32m     11\u001b[0m \u001b[0memp_1\u001b[0m \u001b[1;33m=\u001b[0m \u001b[0mEmployee\u001b[0m\u001b[1;33m(\u001b[0m\u001b[1;34m'Muhamad'\u001b[0m\u001b[1;33m,\u001b[0m \u001b[1;34m'Nurzaman'\u001b[0m\u001b[1;33m,\u001b[0m \u001b[1;36m50000\u001b[0m\u001b[1;33m)\u001b[0m\u001b[1;33m\u001b[0m\u001b[1;33m\u001b[0m\u001b[0m\n\u001b[1;32m---> 12\u001b[1;33m \u001b[0memp_1\u001b[0m\u001b[1;33m.\u001b[0m\u001b[0mfullname\u001b[0m\u001b[1;33m(\u001b[0m\u001b[1;33m)\u001b[0m\u001b[1;33m\u001b[0m\u001b[1;33m\u001b[0m\u001b[0m\n\u001b[0m",
      "\u001b[1;31mTypeError\u001b[0m: fullname() takes 0 positional arguments but 1 was given"
     ]
    }
   ],
   "source": [
    "class Employee:\n",
    "    def __init__(self, first, last, pay):\n",
    "        self.first = first #tidak harus sama, bisa self.fname = first.\n",
    "        self.last = last\n",
    "        self.pay = pay\n",
    "        self.email = first + '.' + last + '@gmail.com'\n",
    "    \n",
    "    def fullname():\n",
    "        return('{} {}'.format(self.first, self.last))\n",
    "    \n",
    "emp_1 = Employee('Muhamad', 'Nurzaman', 50000)\n",
    "emp_1.fullname()"
   ]
  },
  {
   "cell_type": "code",
   "execution_count": 11,
   "metadata": {},
   "outputs": [
    {
     "data": {
      "text/plain": [
       "'Muhamad Nurzaman'"
      ]
     },
     "execution_count": 11,
     "metadata": {},
     "output_type": "execute_result"
    }
   ],
   "source": [
    "class Employee:\n",
    "    def __init__(self, first, last, pay):\n",
    "        self.first = first #tidak harus sama, bisa self.fname = first.\n",
    "        self.last = last\n",
    "        self.pay = pay\n",
    "        self.email = first + '.' + last + '@gmail.com'\n",
    "    \n",
    "    def fullname(self):\n",
    "        return('{} {}'.format(self.first, self.last))\n",
    "    \n",
    "emp_1 = Employee('Muhamad', 'Nurzaman', 50000)\n",
    "emp_1.fullname()"
   ]
  },
  {
   "cell_type": "code",
   "execution_count": 12,
   "metadata": {},
   "outputs": [
    {
     "data": {
      "text/plain": [
       "'Muhamad Nurzaman'"
      ]
     },
     "execution_count": 12,
     "metadata": {},
     "output_type": "execute_result"
    }
   ],
   "source": [
    "Employee.fullname(emp_1)"
   ]
  },
  {
   "cell_type": "markdown",
   "metadata": {},
   "source": [
    "Syntak di atas yang sebenarnya terjadi di proses latar belakang untuk syntax emp_1.fullname(). Sehingga hasilnya pun sama. "
   ]
  },
  {
   "cell_type": "markdown",
   "metadata": {},
   "source": [
    "8 April 2020, 10:46 wib\n",
    "@mzamzam\n",
    "**Selesai**"
   ]
  },
  {
   "cell_type": "code",
   "execution_count": null,
   "metadata": {},
   "outputs": [],
   "source": []
  }
 ],
 "metadata": {
  "kernelspec": {
   "display_name": "Python 3",
   "language": "python",
   "name": "python3"
  },
  "language_info": {
   "codemirror_mode": {
    "name": "ipython",
    "version": 3
   },
   "file_extension": ".py",
   "mimetype": "text/x-python",
   "name": "python",
   "nbconvert_exporter": "python",
   "pygments_lexer": "ipython3",
   "version": "3.7.4"
  },
  "toc": {
   "base_numbering": 1,
   "nav_menu": {},
   "number_sections": true,
   "sideBar": true,
   "skip_h1_title": false,
   "title_cell": "Table of Contents",
   "title_sidebar": "Contents",
   "toc_cell": false,
   "toc_position": {},
   "toc_section_display": true,
   "toc_window_display": false
  }
 },
 "nbformat": 4,
 "nbformat_minor": 4
}
