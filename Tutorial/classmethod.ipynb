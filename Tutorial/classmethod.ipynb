{
 "cells": [
  {
   "cell_type": "markdown",
   "metadata": {},
   "source": [
    "# Classmethod"
   ]
  },
  {
   "cell_type": "markdown",
   "metadata": {},
   "source": [
    "## Pengertian"
   ]
  },
  {
   "cell_type": "markdown",
   "metadata": {},
   "source": [
    "`Method` reguler secara otomatis membuat self (instance) menjadi argumen pertama. Untuk mengubah menjadi tidak reguler atau bukan self jadi argumen pertama atau disebut classmethod dengan menambahkan @classmethod. Penulisan argumen pertama menjadi `cls`. "
   ]
  },
  {
   "cell_type": "code",
   "execution_count": 5,
   "metadata": {
    "ExecuteTime": {
     "end_time": "2020-04-14T07:37:09.062171Z",
     "start_time": "2020-04-14T07:37:09.033917Z"
    }
   },
   "outputs": [],
   "source": [
    "class Employee:\n",
    "    jumlah_karyawan = 0\n",
    "    kenaikan_gaji = 1.04\n",
    "    def __init__(self, first, last, pay):\n",
    "        self.pertama = first\n",
    "        self.akhir = last\n",
    "        self.gaji = pay\n",
    "        self.email = first + '.' + last + '.' + '@company.com'\n",
    "        Employee.jumlah_karyawan += 1\n",
    "        \n",
    "    def fullname(self):\n",
    "        return '{} {}'.format(self.pertama,self.akhir)\n",
    "    \n",
    "    def apply_raise(self):\n",
    "        self.gaji = int(self.gaji * self.kenaikan_gaji)\n",
    "        \n",
    "    @classmethod\n",
    "    def set_kenaikan_gaji(cls,jumlah):\n",
    "        cls.kenaikan_gaji = jumlah\n",
    "\n",
    "emp_1 = Employee('Muhamad','Zamzam', 5000)\n",
    "emp_2 = Employee('Asti','Rahmatika', 6000)\n"
   ]
  },
  {
   "cell_type": "code",
   "execution_count": 6,
   "metadata": {
    "ExecuteTime": {
     "end_time": "2020-04-14T07:37:11.332183Z",
     "start_time": "2020-04-14T07:37:11.314481Z"
    }
   },
   "outputs": [
    {
     "name": "stdout",
     "output_type": "stream",
     "text": [
      "1.05\n",
      "1.05\n",
      "1.05\n"
     ]
    }
   ],
   "source": [
    "Employee.set_kenaikan_gaji(1.05)\n",
    "print(Employee.kenaikan_gaji)\n",
    "print(emp_1.kenaikan_gaji)\n",
    "print(emp_1.kenaikan_gaji)"
   ]
  },
  {
   "cell_type": "code",
   "execution_count": 7,
   "metadata": {
    "ExecuteTime": {
     "end_time": "2020-04-14T07:37:58.951244Z",
     "start_time": "2020-04-14T07:37:58.942290Z"
    }
   },
   "outputs": [
    {
     "name": "stdout",
     "output_type": "stream",
     "text": [
      "None\n"
     ]
    }
   ],
   "source": [
    "print(emp_1.set_kenaikan_gaji(1.05))"
   ]
  },
  {
   "cell_type": "code",
   "execution_count": null,
   "metadata": {},
   "outputs": [],
   "source": []
  }
 ],
 "metadata": {
  "kernelspec": {
   "display_name": "Python 3",
   "language": "python",
   "name": "python3"
  },
  "language_info": {
   "codemirror_mode": {
    "name": "ipython",
    "version": 3
   },
   "file_extension": ".py",
   "mimetype": "text/x-python",
   "name": "python",
   "nbconvert_exporter": "python",
   "pygments_lexer": "ipython3",
   "version": "3.7.4"
  },
  "toc": {
   "base_numbering": 1,
   "nav_menu": {},
   "number_sections": true,
   "sideBar": true,
   "skip_h1_title": false,
   "title_cell": "Table of Contents",
   "title_sidebar": "Contents",
   "toc_cell": false,
   "toc_position": {},
   "toc_section_display": true,
   "toc_window_display": false
  }
 },
 "nbformat": 4,
 "nbformat_minor": 4
}
