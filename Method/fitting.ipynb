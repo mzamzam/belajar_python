{
 "cells": [
  {
   "cell_type": "markdown",
   "metadata": {},
   "source": [
    "## Linear Equation"
   ]
  },
  {
   "cell_type": "markdown",
   "metadata": {},
   "source": [
    "For numerical problems we can use the la.lu function form SciPy’s linear algebra module or np.linalg.\n",
    "It returns a permutation matrix P and the L and U matrices, such that A = PLU. But, to solve linear algebra, we actually do not need these parameters. So, instead of la.lu, simply use np.linalg to solve the linear equation. For example, we will try to solve (find x1 and x2) from the two equations below:\n",
    "\n",
    "2x1 + 3x2 = 4\n",
    "5x1 + 4x2 = 3 \n",
    "\n",
    "To solve the equations, lets make matrices first using np.array."
   ]
  },
  {
   "cell_type": "code",
   "execution_count": 1,
   "metadata": {
    "ExecuteTime": {
     "end_time": "2022-09-16T15:58:45.568773Z",
     "start_time": "2022-09-16T15:58:43.946686Z"
    }
   },
   "outputs": [
    {
     "name": "stdout",
     "output_type": "stream",
     "text": [
      "Rank matrix A:  2\n",
      "Rank matrix B:  1\n",
      "x1 is:  -1.0\n",
      "x2 is:  2.0\n",
      "Meanwhile, P, L, U metrices are : [[0. 1.]\n",
      " [1. 0.]];[[1.  0. ]\n",
      " [0.4 1. ]];[[5.  4. ]\n",
      " [0.  1.4]]\n"
     ]
    }
   ],
   "source": [
    "import numpy as np\n",
    "import scipy.linalg as la\n",
    "import matplotlib.pyplot as plt\n",
    "A = np.array([[2, 3], [5, 4]])\n",
    "B = np.array([4, 3])\n",
    "x1, x2 = np.linalg.solve(A,B)\n",
    "P, L, U = la.lu(A)\n",
    "print(\"Rank matrix A: \", np.linalg.matrix_rank(A))\n",
    "print(\"Rank matrix B: \", np.linalg.matrix_rank(B))\n",
    "print(\"x1 is: \", x1)\n",
    "print(\"x2 is: \", x2)\n",
    "print(\"Meanwhile, P, L, U metrices are : {};{};{}\".format(P, L, U))"
   ]
  },
  {
   "cell_type": "markdown",
   "metadata": {},
   "source": [
    "## Least Square"
   ]
  },
  {
   "cell_type": "code",
   "execution_count": 2,
   "metadata": {
    "ExecuteTime": {
     "end_time": "2022-09-16T15:58:45.629588Z",
     "start_time": "2022-09-16T15:58:45.576500Z"
    }
   },
   "outputs": [
    {
     "name": "stdout",
     "output_type": "stream",
     "text": [
      "[-1.         -0.97979798 -0.95959596 -0.93939394 -0.91919192 -0.8989899\n",
      " -0.87878788 -0.85858586 -0.83838384 -0.81818182 -0.7979798  -0.77777778\n",
      " -0.75757576 -0.73737374 -0.71717172 -0.6969697  -0.67676768 -0.65656566\n",
      " -0.63636364 -0.61616162 -0.5959596  -0.57575758 -0.55555556 -0.53535354\n",
      " -0.51515152 -0.49494949 -0.47474747 -0.45454545 -0.43434343 -0.41414141\n",
      " -0.39393939 -0.37373737 -0.35353535 -0.33333333 -0.31313131 -0.29292929\n",
      " -0.27272727 -0.25252525 -0.23232323 -0.21212121 -0.19191919 -0.17171717\n",
      " -0.15151515 -0.13131313 -0.11111111 -0.09090909 -0.07070707 -0.05050505\n",
      " -0.03030303 -0.01010101  0.01010101  0.03030303  0.05050505  0.07070707\n",
      "  0.09090909  0.11111111  0.13131313  0.15151515  0.17171717  0.19191919\n",
      "  0.21212121  0.23232323  0.25252525  0.27272727  0.29292929  0.31313131\n",
      "  0.33333333  0.35353535  0.37373737  0.39393939  0.41414141  0.43434343\n",
      "  0.45454545  0.47474747  0.49494949  0.51515152  0.53535354  0.55555556\n",
      "  0.57575758  0.5959596   0.61616162  0.63636364  0.65656566  0.67676768\n",
      "  0.6969697   0.71717172  0.73737374  0.75757576  0.77777778  0.7979798\n",
      "  0.81818182  0.83838384  0.85858586  0.87878788  0.8989899   0.91919192\n",
      "  0.93939394  0.95959596  0.97979798  1.        ]\n",
      "[2.         1.92041628 1.8432813  1.76859504 1.69635751 1.62656872\n",
      " 1.55922865 1.49433731 1.4318947  1.37190083 1.31435568 1.25925926\n",
      " 1.20661157 1.15641261 1.10866238 1.06336088 1.02050811 0.98010407\n",
      " 0.94214876 0.90664218 0.87358433 0.84297521 0.81481481 0.78910315\n",
      " 0.76584022 0.74502602 0.72666054 0.7107438  0.69727579 0.6862565\n",
      " 0.67768595 0.67156413 0.66789103 0.66666667 0.66789103 0.67156413\n",
      " 0.67768595 0.6862565  0.69727579 0.7107438  0.72666054 0.74502602\n",
      " 0.76584022 0.78910315 0.81481481 0.84297521 0.87358433 0.90664218\n",
      " 0.94214876 0.98010407 1.02050811 1.06336088 1.10866238 1.15641261\n",
      " 1.20661157 1.25925926 1.31435568 1.37190083 1.4318947  1.49433731\n",
      " 1.55922865 1.62656872 1.69635751 1.76859504 1.8432813  1.92041628\n",
      " 2.         2.08203245 2.16651362 2.25344353 2.34282216 2.43464953\n",
      " 2.52892562 2.62565044 2.724824   2.82644628 2.93051729 3.03703704\n",
      " 3.14600551 3.25742271 3.37128864 3.48760331 3.6063667  3.72757882\n",
      " 3.85123967 3.97734925 4.10590756 4.2369146  4.37037037 4.50627487\n",
      " 4.6446281  4.78543006 4.92868075 5.07438017 5.22252831 5.37312519\n",
      " 5.5261708  5.68166514 5.8396082  6.        ]\n"
     ]
    }
   ],
   "source": [
    "# define true model parameters\n",
    "x = np.linspace(-1, 1, 100)\n",
    "a, b, c = 1, 2, 3\n",
    "y_exact = a + b*x + c*x**2\n",
    "print(x)\n",
    "print(y_exact)"
   ]
  },
  {
   "cell_type": "code",
   "execution_count": 3,
   "metadata": {
    "ExecuteTime": {
     "end_time": "2022-09-16T15:58:45.676247Z",
     "start_time": "2022-09-16T15:58:45.644332Z"
    }
   },
   "outputs": [
    {
     "name": "stdout",
     "output_type": "stream",
     "text": [
      "[ 1.61106091e+00  7.39575873e-01  1.25038734e+00  4.02112908e+00\n",
      "  1.54867333e+00 -3.01236305e-01  1.06955936e+00  1.68255812e+00\n",
      "  3.38690323e-01  5.60681681e+00  2.99585463e+00  1.05340735e+00\n",
      " -1.92372079e-02  9.67366923e-01  2.37209115e+00  1.17095311e+00\n",
      "  2.27317407e+00  2.92469055e+00  3.07365477e+00  2.32741912e+00\n",
      "  2.33877185e+00  3.43191714e+00  2.29969690e+00  8.22161687e-01\n",
      "  1.03759887e-01  1.37505138e+00  4.37921523e+00  1.25874524e+00\n",
      "  1.96125996e+00  4.87972166e+00  3.09460646e-01  5.90771115e-01\n",
      "  3.09267489e+00  1.10420248e+00 -6.72417524e-01  4.72209893e+00\n",
      "  5.97326444e+00  1.65200775e+00  1.01404865e+00  1.75043519e+00\n",
      "  5.89738509e-01  7.20374985e-01  2.40445250e+00 -7.90108678e-01\n",
      "  4.74320357e-01  3.44061978e-01  2.52393322e+00  2.29993713e+00\n",
      "  1.24514045e+00  3.98464343e+00  7.82258459e-01  2.66924974e+00\n",
      "  1.52608537e+00  4.50834055e-01  1.66554565e+00  1.87515334e-01\n",
      "  7.88763244e-02  1.39002398e+00  1.75070321e+00  5.77696658e+00\n",
      "  1.29148202e+00  1.57957991e+00  5.22986013e+00  2.90594203e+00\n",
      "  1.04906383e+00  7.94063917e-01  5.51528977e-01 -2.23857632e-01\n",
      "  2.17337542e+00 -2.39241584e-01  1.06446637e+00  1.98442546e+00\n",
      "  4.70707274e+00  4.02923689e+00  3.63681160e+00  1.84014388e+00\n",
      "  3.90785858e+00  7.39304692e-01  3.22857481e+00  5.15730246e+00\n",
      "  8.23021067e-01  4.52635854e+00  1.94132088e+00  4.20046482e-01\n",
      "  2.38418029e+00 -7.61076525e-04  3.20801578e+00  6.19007829e-01\n",
      "  5.10270237e+00  1.30839362e+00  1.65701714e+00  4.52218320e-01\n",
      " -5.61065429e-02  1.97752979e+00  3.08367675e+00  3.74010308e-01\n",
      "  3.85149955e+00  6.01841432e-01  9.97515054e-01  3.57149047e+00]\n"
     ]
    }
   ],
   "source": [
    "# simulate noisy data\n",
    "m = 100\n",
    "X = 1 - 2*np.random.rand(m)\n",
    "Y = a + b*X + c*X**2 + np.random.randn(m)\n",
    "print(Y)\n"
   ]
  },
  {
   "cell_type": "code",
   "execution_count": 4,
   "metadata": {
    "ExecuteTime": {
     "end_time": "2022-09-16T15:58:45.723939Z",
     "start_time": "2022-09-16T15:58:45.684253Z"
    }
   },
   "outputs": [
    {
     "name": "stdout",
     "output_type": "stream",
     "text": [
      "[1.08387339 1.9456236  2.76614905] [89.11901537] 3 [10.63078588  5.79136306  2.74639459]\n"
     ]
    },
    {
     "name": "stderr",
     "output_type": "stream",
     "text": [
      "c:\\users\\stargazers\\python37\\lib\\site-packages\\ipykernel_launcher.py:3: FutureWarning: `rcond` parameter will change to the default of machine precision times ``max(M, N)`` where M and N are the input matrix dimensions.\n",
      "To use the future default and silence this warning we advise to pass `rcond=None`, to keep using the old, explicitly pass `rcond=-1`.\n",
      "  This is separate from the ipykernel package so we can avoid doing imports until\n"
     ]
    }
   ],
   "source": [
    "#fit the data to the model using linear least square\n",
    "Aa = np.vstack([X**0, X**1, X**2]) # see np.vander for alternative\n",
    "sol, r, rank, sv = np.linalg.lstsq(Aa.T, Y)\n",
    "print(sol, r, rank, sv)"
   ]
  },
  {
   "cell_type": "code",
   "execution_count": 5,
   "metadata": {
    "ExecuteTime": {
     "end_time": "2022-09-16T15:58:47.157492Z",
     "start_time": "2022-09-16T15:58:45.729224Z"
    }
   },
   "outputs": [
    {
     "data": {
      "text/plain": [
       "<matplotlib.legend.Legend at 0x252c48be808>"
      ]
     },
     "execution_count": 5,
     "metadata": {},
     "output_type": "execute_result"
    },
    {
     "data": {
      "image/png": "[encoded data removed]",
      "text/plain": [
       "<Figure size 864x288 with 1 Axes>"
      ]
     },
     "metadata": {
      "needs_background": "light"
     },
     "output_type": "display_data"
    }
   ],
   "source": [
    "y_fit = sol[0] + sol[1] * x + sol[2] * x**2\n",
    "fig, ax = plt.subplots(figsize=(12, 4))\n",
    "ax.plot(X, Y, 'go', alpha=0.5, label='Simulated data')\n",
    "# ax.plot(x, y_exact, 'r', lw=2, label='True value $y = 1 + 2x +3x^2$')\n",
    "ax.plot(x, y_fit, 'b', lw=2, label='Least square fit')\n",
    "ax.set_xlabel(r\"$x$\", fontsize=18)\n",
    "ax.set_ylabel(r\"$y$\", fontsize=18)\n",
    "ax.legend(loc=2)"
   ]
  },
  {
   "cell_type": "markdown",
   "metadata": {},
   "source": [
    "\"A good fit of data to a model obviously requires that the model used to describe the\n",
    "data correspond well to the underlying process that produced the data. In the following\n",
    "example, and in next Figure, we fit the same data used in the previous example\n",
    "to linear model and to a higher-order polynomial model (up to order 15). The former\n",
    "case corresponds to underfitting, where we have used a too simple model for the data,\n",
    "and the latter case corresponds to overfitting, where we have used a too complex model\n",
    "for the data, and thus fit the model not only to the underlying trend but also to the\n",
    "measurement noise. Using an appropriate model is an important and delicate aspect of\n",
    "data fitting.\" (p195)"
   ]
  },
  {
   "cell_type": "code",
   "execution_count": 6,
   "metadata": {
    "ExecuteTime": {
     "end_time": "2022-09-16T15:58:47.205405Z",
     "start_time": "2022-09-16T15:58:47.162462Z"
    }
   },
   "outputs": [
    {
     "name": "stdout",
     "output_type": "stream",
     "text": [
      "[0.30378994 0.33820171 0.37261349 0.40702526 0.44143704 0.47584881\n",
      " 0.51026059 0.54467236 0.57908414 0.61349591 0.64790769 0.68231946\n",
      " 0.71673124 0.75114301 0.78555479 0.81996656 0.85437834 0.88879012\n",
      " 0.92320189 0.95761367 0.99202544 1.02643722 1.06084899 1.09526077\n",
      " 1.12967254 1.16408432 1.19849609 1.23290787 1.26731964 1.30173142\n",
      " 1.33614319 1.37055497 1.40496674 1.43937852 1.47379029 1.50820207\n",
      " 1.54261384 1.57702562 1.61143739 1.64584917 1.68026094 1.71467272\n",
      " 1.74908449 1.78349627 1.81790805 1.85231982 1.8867316  1.92114337\n",
      " 1.95555515 1.98996692 2.0243787  2.05879047 2.09320225 2.12761402\n",
      " 2.1620258  2.19643757 2.23084935 2.26526112 2.2996729  2.33408467\n",
      " 2.36849645 2.40290822 2.43732    2.47173177 2.50614355 2.54055532\n",
      " 2.5749671  2.60937887 2.64379065 2.67820242 2.7126142  2.74702598\n",
      " 2.78143775 2.81584953 2.8502613  2.88467308 2.91908485 2.95349663\n",
      " 2.9879084  3.02232018 3.05673195 3.09114373 3.1255555  3.15996728\n",
      " 3.19437905 3.22879083 3.2632026  3.29761438 3.33202615 3.36643793\n",
      " 3.4008497  3.43526148 3.46967325 3.50408503 3.5384968  3.57290858\n",
      " 3.60732036 3.64173213 3.67614391 3.71055568]\n"
     ]
    }
   ],
   "source": [
    "# fit the data to the model using linear least square:\n",
    "# 1st order polynomial\n",
    "Ab = np.vstack([X**n for n in range(2)]) # this syntax is key for equation to fit data.\n",
    "sol, r, rank, sv = la.lstsq(Ab.T, Y) # this syntax is key for equation to fit data.\n",
    "y_fit1 = sum([s * x**n for n, s in enumerate(sol)]) # why x not X? x is np.linspace(-1,1, 100)\n",
    "print(y_fit1)"
   ]
  },
  {
   "cell_type": "code",
   "execution_count": 7,
   "metadata": {
    "ExecuteTime": {
     "end_time": "2022-09-16T15:58:47.252108Z",
     "start_time": "2022-09-16T15:58:47.217944Z"
    }
   },
   "outputs": [
    {
     "name": "stdout",
     "output_type": "stream",
     "text": [
      "[-4.12600359  0.47267088  1.91453351  2.03254715  1.76057515  1.50504007\n",
      "  1.38710743  1.3933527   1.46354717  1.53677762  1.57127772  1.54882116\n",
      "  1.47107024  1.352686    1.2141145   1.07562258  0.95324252  0.85669838\n",
      "  0.78904248  0.74756226  0.72547089  0.7139271   0.70400827  0.68836169\n",
      "  0.6623635   0.62471273  0.57746971  0.52561184  0.47622192  0.43744766\n",
      "  0.41737634  0.42295901  0.45909842  0.52798659  0.62874551  0.75739142\n",
      "  0.90711154  1.06881468  1.23189546  1.38513647  1.51766519  1.61988121\n",
      "  1.68427551  1.70607485  1.68366064  1.61873094  1.51619523  1.38381284\n",
      "  1.23160568  1.07109323  0.91441119  0.77338386  0.65862415  0.57873307\n",
      "  0.53966345  0.5443005   0.59229549  0.68016938  0.80168207  0.94844091\n",
      "  1.11070169  1.2782972   1.44161472  1.59253525  1.72524555  1.83683966\n",
      "  1.92763921  2.00118257  2.06385973  2.12420189  2.19187038  2.27642565\n",
      "  2.38599074  2.52595152  2.69785432  2.89866597  3.12054899  3.3512719\n",
      "  3.57532019  3.775696    3.93629678  4.04464942  4.09465503  4.08888439\n",
      "  4.03987461  3.96983974  3.90825841  3.88698513  3.93290679  4.05880514\n",
      "  4.25407798  4.47842443  4.66364295  4.73147951  4.63917908  4.46925179\n",
      "  4.58621436  5.89099735 10.21365327 20.89734083]\n"
     ]
    }
   ],
   "source": [
    "#15th order polynomial\n",
    "Ac = np.vstack([X**n for n in range(16)])\n",
    "sol, r, rank, sv = la.lstsq(Ac.T, Y)\n",
    "y_fit15 = sum([s * x**n for n, s in enumerate(sol)])\n",
    "print(y_fit15)"
   ]
  },
  {
   "cell_type": "code",
   "execution_count": 10,
   "metadata": {
    "ExecuteTime": {
     "end_time": "2022-09-16T16:00:08.658188Z",
     "start_time": "2022-09-16T16:00:07.889132Z"
    }
   },
   "outputs": [
    {
     "data": {
      "text/plain": [
       "<matplotlib.legend.Legend at 0x252c4adae08>"
      ]
     },
     "execution_count": 10,
     "metadata": {},
     "output_type": "execute_result"
    },
    {
     "data": {
      "image/png": "[encoded data removed]",
      "text/plain": [
       "<Figure size 864x288 with 1 Axes>"
      ]
     },
     "metadata": {
      "needs_background": "light"
     },
     "output_type": "display_data"
    }
   ],
   "source": [
    "fig, ax = plt.subplots(figsize=(12, 4))\n",
    "ax.plot(X, Y, 'go', alpha=0.5, label='Simulated data')\n",
    "# ax.plot(x, y_exact, 'r', lw=2, label='True value $y = 1 + 2x + 3x^2$')\n",
    "ax.plot(x, y_fit, 'b', lw=2, label='Least square fit [2ndorder]')\n",
    "ax.plot(x, y_fit1, 'y', lw=2, label='Least square fit [1storder]')\n",
    "ax.plot(x, y_fit15, 'm', lw=2, label='Least square fit [15thorder]')\n",
    "ax.set_ylim([-2,7])\n",
    "ax.set_xlabel(r\"$x$\", fontsize=18)\n",
    "ax.set_ylabel(r\"$y$\", fontsize=18)\n",
    "ax.legend(loc=2)"
   ]
  },
  {
   "cell_type": "markdown",
   "metadata": {},
   "source": [
    "source: Johansson, R. 2019. Numerical Python."
   ]
  }
 ],
 "metadata": {
  "kernelspec": {
   "display_name": "Python 3",
   "language": "python",
   "name": "python3"
  },
  "language_info": {
   "codemirror_mode": {
    "name": "ipython",
    "version": 3
   },
   "file_extension": ".py",
   "mimetype": "text/x-python",
   "name": "python",
   "nbconvert_exporter": "python",
   "pygments_lexer": "ipython3",
   "version": "3.7.4"
  },
  "toc": {
   "base_numbering": 1,
   "nav_menu": {},
   "number_sections": true,
   "sideBar": true,
   "skip_h1_title": false,
   "title_cell": "Table of Contents",
   "title_sidebar": "Contents",
   "toc_cell": false,
   "toc_position": {},
   "toc_section_display": true,
   "toc_window_display": false
  }
 },
 "nbformat": 4,
 "nbformat_minor": 4
}
