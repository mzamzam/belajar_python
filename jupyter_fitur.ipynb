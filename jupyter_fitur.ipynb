{
 "cells": [
  {
   "cell_type": "markdown",
   "metadata": {},
   "source": [
    "## Learning Goals\n",
    "* *Input/Output*: Read in spectral data from a list of FITS files using [astropy.io](http://docs.astropy.org/en/stable/io/fits/index.html) and [astropy.wcs](http://docs.astropy.org/en/stable/wcs/index.html)\n",
    "* **Coding**: Make code reusable as a function\n",
    "* *Analysis*: Analyze spectral data using [astropy.units](http://docs.astropy.org/en/stable/units/index.html),  [astropy.constants](http://docs.astropy.org/en/stable/constants/index.html), and [astropy.time](http://docs.astropy.org/en/stable/time/index.html)\n",
    "* **Input/Output**: Generate a `LaTeX` table using [astropy.table](http://docs.astropy.org/en/stable/table/index.html)\n",
    "* *Visualization*: Plot ``spectral`` data using [matplotlib](https://matplotlib.org/)"
   ]
  },
  {
   "cell_type": "markdown",
   "metadata": {},
   "source": [
    "Please make sure you have this software installed before you begin (in addition to the usual scipy, numpy):\n",
    "\n",
    "+ [astropy](http://astropy.org) v 0.4 or higher (install with: ``pip install astropy`` in a terminal/command window)\n",
    "+ [ccdproc](http://ccdproc.readthedocs.org) v 0.1.1 or higher (install with: ``pip install ccdproc`` in a terminal/command window)\n",
    "+ [msumastro](http://msumastro.readthedocs.org) v 0.5 or higher (install with : ``pip install msumastro`` in a terminal/command window)"
   ]
  },
  {
   "cell_type": "markdown",
   "metadata": {},
   "source": [
    "<h1>IMEXAM Overview </h1>\n",
    "\n",
    "\n",
    "The <a href=\"http://imexam.readthedocs.io\">imexam</a> library was initially concieved as a replacement for the IRAF task of the same name, providing users who were used to using IRAF in conjunction with an image viewer (such as SAOImage DS9) the same functionality in Python.\n",
    "\n",
    "However, it was developed as a lightweight, extensible package that allows users to interact with arrays in a consistent way across different image viewers or without any gui interaction at all. This gives users flexibility to design their own experience.\n",
    "\n",
    "    The following notebook will go over three ways which this library can be used to compliment your data anaylsis efforts.\n",
    "    \n",
    "* <p align=\"left\">Demo notebooks for different ways of interacting with the library can be found on the SpaceTelescope github site: https://github.com/spacetelescope/imexam/tree/master/example_notebooks </p>\n",
    "\n",
    "If you have any issues with this notebook or using with any of the imexam interaction, open an issue on the package github repository with the details: http://github.com/spacetelescope/imexam/"
   ]
  },
  {
   "cell_type": "markdown",
   "metadata": {},
   "source": [
    "$\\lambda_{heliocentric} = \\lambda_{bariocentric} * (1 + \\frac{v_{helio}}{c})$"
   ]
  },
  {
   "cell_type": "markdown",
   "metadata": {},
   "source": [
    "$$E_{kin}  =  E_{grav}$$\n",
    "$$\\frac{1}{2} m v^2  =  G \\frac{m M_*}{R_*}$$"
   ]
  },
  {
   "cell_type": "markdown",
   "metadata": {},
   "source": [
    "$$v = \\sqrt{\\frac{G M_{\\odot}}{r}}$$"
   ]
  },
  {
   "cell_type": "markdown",
   "metadata": {},
   "source": [
    "In order to calculate the mass of the molecular cloud, we need to measure its column density. A number of assumptions are required for the following calculation; the most important are that the emission is optically thin (typically true for ${\\rm C}^{18}{\\rm O}$) and that conditions of local thermodynamic equilibrium hold along the line of sight. In the case where the temperature is large compared to the separation in energy levels for a molecule and the source fills the main beam of the telescope, the total column density for ${\\rm C}^{13}{\\rm O}$ is\n",
    "\n",
    "$N=C \\frac{\\int T_B(V) dV}{1-e^{-B}}$\n",
    "\n",
    "where the constants $C$ and $B$ are given by:\n",
    "\n",
    "$C=3.0\\times10^{14} \\left(\\frac{\\nu}{\\nu_{13}}\\right)^2 \\frac{A_{13}}{A} {\\rm K^{-1} cm^{-2} \\, km^{-1} \\, s}$\n",
    "\n",
    "$B=\\frac{h\\nu}{k_B T}$\n",
    "\n",
    "(Rohlfs & Wilson \"Tools of Radio Astronomy\"). "
   ]
  },
  {
   "cell_type": "markdown",
   "metadata": {},
   "source": [
    "<img src=\"GAMBAR_jupyter_fitur.svg\">"
   ]
  }
 ],
 "metadata": {
  "kernelspec": {
   "display_name": "Python 3",
   "language": "python",
   "name": "python3"
  },
  "language_info": {
   "codemirror_mode": {
    "name": "ipython",
    "version": 3
   },
   "file_extension": ".py",
   "mimetype": "text/x-python",
   "name": "python",
   "nbconvert_exporter": "python",
   "pygments_lexer": "ipython3",
   "version": "3.7.4"
  }
 },
 "nbformat": 4,
 "nbformat_minor": 2
}
