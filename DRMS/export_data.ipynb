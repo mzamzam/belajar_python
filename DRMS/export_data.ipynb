{
 "cells": [
  {
   "cell_type": "markdown",
   "metadata": {
    "slideshow": {
     "slide_type": "slide"
    }
   },
   "source": [
    "# Tutorial DRMS"
   ]
  },
  {
   "cell_type": "markdown",
   "metadata": {
    "slideshow": {
     "slide_type": "slide"
    }
   },
   "source": [
    "Tutorial ini merupakan pengenalan cara menggunakan module python drms untuk mengakses serta mengolah data SDO atau MDI. Penjelasan lebih mendalam mengenai DRMS bisa dilihat pada laman berikut https://pypi.python.org/pypi/drms."
   ]
  },
  {
   "cell_type": "markdown",
   "metadata": {
    "slideshow": {
     "slide_type": "slide"
    }
   },
   "source": [
    "### Pengenalan dasar"
   ]
  },
  {
   "cell_type": "markdown",
   "metadata": {
    "slideshow": {
     "slide_type": "slide"
    }
   },
   "source": [
    "Langkah pertama yang harus dilakukan adalah mencari rentetan data SDO atau MDI. Data tersebut tersedia pada laman JSOC (http://jsoc.stanford.edu/). Setelah itu, buat kode antrian menggunakan modul DRMS untuk mendapatkan data keyword (metadata) dan  lokasi segment file (data). Supaya bisa mengakses data JSOC menggunakan DRMS, import module DRMS lalu buat kelas Client."
   ]
  },
  {
   "cell_type": "code",
   "execution_count": 1,
   "metadata": {
    "collapsed": true,
    "slideshow": {
     "slide_type": "subslide"
    }
   },
   "outputs": [],
   "source": [
    "import drms\n",
    "c = drms.Client()"
   ]
  },
  {
   "cell_type": "markdown",
   "metadata": {},
   "source": [
    "Sekarang, semua rentetan data yang tersedia di JSOC bisa dipanggil menggunakan DRMS. Data HMI diawali dengan ''hmi.'', data AIA diawali dengan ''AIA.'', data MDI diawali dengan ''mdi.'', dan seterusnya. Untuk keperluan penelitian cuaca antariksa, salah satu data yang digunakan adalah data HMI SHARP. Penjelasan lebih lanjut tentang SHARP bisa dilihat di  http://jsoc.stanford.edu/doc/data/hmi/sharp/sharp.htm atau di https://mnurzaman.wordpress.com/. "
   ]
  },
  {
   "cell_type": "code",
   "execution_count": 2,
   "metadata": {},
   "outputs": [
    {
     "data": {
      "text/plain": [
       "[u'aia.lev1', u'aia.lev1_euv_12s', u'aia.lev1_uv_24s', u'aia.lev1_vis_1h']"
      ]
     },
     "execution_count": 2,
     "metadata": {},
     "output_type": "execute_result"
    }
   ],
   "source": [
    "c.series('aia.lev1')"
   ]
  },
  {
   "cell_type": "markdown",
   "metadata": {},
   "source": [
    "Setiap data HMI mempunyai primekey tertentu yang berbeda dengan jenis data HMI lainnya. Untuk mengetahui primekey data HMI, gunakan perintah Client.pkey(). Selain itu, HMI data juga mempunyai regular keywords yang bisa dipanggil menggunakan perintah Client.key(). Client.info() digunakan untuk mengetahui informasi rinci dari suatu data HMI. Informasi lengkap bisa dilihat di http://jsoc.stanford.edu/ajax/RecordSetHelp.html. Berikut ini contoh untuk data HMI SHARP."
   ]
  },
  {
   "cell_type": "code",
   "execution_count": 3,
   "metadata": {},
   "outputs": [
    {
     "data": {
      "text/plain": [
       "[u'T_REC', u'FSN']"
      ]
     },
     "execution_count": 3,
     "metadata": {},
     "output_type": "execute_result"
    }
   ],
   "source": [
    "c.pkeys('aia.lev1')"
   ]
  },
  {
   "cell_type": "code",
   "execution_count": 4,
   "metadata": {},
   "outputs": [
    {
     "data": {
      "text/plain": [
       "[u'cparms_sg000',\n",
       " u'image_lev1_bzero',\n",
       " u'image_lev1_bscale',\n",
       " u'cparms_sg001',\n",
       " u'bad_pixel_bzero',\n",
       " u'bad_pixel_bscale',\n",
       " u'cparms_sg002',\n",
       " u'spikes_bzero',\n",
       " u'spikes_bscale',\n",
       " u'BLD_VERS',\n",
       " u'LVL_NUM',\n",
       " u'T_REC',\n",
       " u'T_REC_step',\n",
       " u'T_REC_epoch',\n",
       " u'T_REC_round',\n",
       " u'ORIGIN',\n",
       " u'DATE',\n",
       " u'TELESCOP',\n",
       " u'INSTRUME',\n",
       " u'DATE__OBS',\n",
       " u'T_OBS',\n",
       " u'CAMERA',\n",
       " u'IMG_TYPE',\n",
       " u'EXPTIME',\n",
       " u'EXPSDEV',\n",
       " u'INT_TIME',\n",
       " u'WAVELNTH',\n",
       " u'WAVEUNIT',\n",
       " u'WAVE_STR',\n",
       " u'FSN',\n",
       " u'FID',\n",
       " u'QUALLEV0',\n",
       " u'QUALITY',\n",
       " u'TOTVALS',\n",
       " u'DATAVALS',\n",
       " u'MISSVALS',\n",
       " u'PERCENTD',\n",
       " u'DATAMIN',\n",
       " u'DATAMAX',\n",
       " u'DATAMEDN',\n",
       " u'DATAMEAN',\n",
       " u'DATARMS',\n",
       " u'DATASKEW',\n",
       " u'DATAKURT',\n",
       " u'DATACENT',\n",
       " u'DATAP01',\n",
       " u'DATAP10',\n",
       " u'DATAP25',\n",
       " u'DATAP75',\n",
       " u'DATAP90',\n",
       " u'DATAP95',\n",
       " u'DATAP98',\n",
       " u'DATAP99',\n",
       " u'NSATPIX',\n",
       " u'OSCNMEAN',\n",
       " u'OSCNRMS',\n",
       " u'FLAT_REC',\n",
       " u'NSPIKES',\n",
       " u'CTYPE1',\n",
       " u'CUNIT1',\n",
       " u'CRVAL1',\n",
       " u'CDELT1',\n",
       " u'CRPIX1',\n",
       " u'CTYPE2',\n",
       " u'CUNIT2',\n",
       " u'CRVAL2',\n",
       " u'CDELT2',\n",
       " u'CRPIX2',\n",
       " u'CROTA2',\n",
       " u'R_SUN',\n",
       " u'MPO_REC',\n",
       " u'INST_ROT',\n",
       " u'IMSCL_MP',\n",
       " u'X0_MP',\n",
       " u'Y0_MP',\n",
       " u'ASD_REC',\n",
       " u'SAT_Y0',\n",
       " u'SAT_Z0',\n",
       " u'SAT_ROT',\n",
       " u'ACS_MODE',\n",
       " u'ACS_ECLP',\n",
       " u'ACS_SUNP',\n",
       " u'ACS_SAFE',\n",
       " u'ACS_CGT',\n",
       " u'ORB_REC',\n",
       " u'DSUN_REF',\n",
       " u'DSUN_OBS',\n",
       " u'RSUN_REF',\n",
       " u'RSUN_OBS',\n",
       " u'GAEX_OBS',\n",
       " u'GAEY_OBS',\n",
       " u'GAEZ_OBS',\n",
       " u'HAEX_OBS',\n",
       " u'HAEY_OBS',\n",
       " u'HAEZ_OBS',\n",
       " u'OBS_VR',\n",
       " u'OBS_VW',\n",
       " u'OBS_VN',\n",
       " u'CRLN_OBS',\n",
       " u'CRLT_OBS',\n",
       " u'CAR_ROT',\n",
       " u'HGLN_OBS',\n",
       " u'HGLT_OBS',\n",
       " u'ROI_NWIN',\n",
       " u'ROI_SUM',\n",
       " u'ROI_NAX1',\n",
       " u'ROI_NAY1',\n",
       " u'ROI_LLX1',\n",
       " u'ROI_LLY1',\n",
       " u'ROI_NAX2',\n",
       " u'ROI_NAY2',\n",
       " u'ROI_LLX2',\n",
       " u'ROI_LLY2',\n",
       " u'PIXLUNIT',\n",
       " u'DN_GAIN',\n",
       " u'EFF_AREA',\n",
       " u'EFF_AR_V',\n",
       " u'TEMPCCD',\n",
       " u'TEMPGT',\n",
       " u'TEMPSMIR',\n",
       " u'TEMPFPAD',\n",
       " u'ISPSNAME',\n",
       " u'ISPPKTIM',\n",
       " u'ISPPKTVN',\n",
       " u'AIVNMST',\n",
       " u'AIMGOTS',\n",
       " u'ASQHDR',\n",
       " u'ASQTNUM',\n",
       " u'ASQFSN',\n",
       " u'AIAHFSN',\n",
       " u'AECDELAY',\n",
       " u'AIAECTI',\n",
       " u'AIASEN',\n",
       " u'AIFDBID',\n",
       " u'AIMGOTSS',\n",
       " u'AIFCPS',\n",
       " u'AIFTSWTH',\n",
       " u'AIFRMLID',\n",
       " u'AIFTSID',\n",
       " u'AIHISMXB',\n",
       " u'AIHIS192',\n",
       " u'AIHIS348',\n",
       " u'AIHIS604',\n",
       " u'AIHIS860',\n",
       " u'AIFWEN',\n",
       " u'AIMGSHCE',\n",
       " u'AECTYPE',\n",
       " u'AECMODE',\n",
       " u'AISTATE',\n",
       " u'AIAECENF',\n",
       " u'AIFILTYP',\n",
       " u'AIMSHOBC',\n",
       " u'AIMSHOBE',\n",
       " u'AIMSHOTC',\n",
       " u'AIMSHOTE',\n",
       " u'AIMSHCBC',\n",
       " u'AIMSHCBE',\n",
       " u'AIMSHCTC',\n",
       " u'AIMSHCTE',\n",
       " u'AICFGDL1',\n",
       " u'AICFGDL2',\n",
       " u'AICFGDL3',\n",
       " u'AICFGDL4',\n",
       " u'AIFOENFL',\n",
       " u'AIMGFSN',\n",
       " u'AIMGTYP',\n",
       " u'AIAWVLEN',\n",
       " u'AIAGP1',\n",
       " u'AIAGP2',\n",
       " u'AIAGP3',\n",
       " u'AIAGP4',\n",
       " u'AIAGP5',\n",
       " u'AIAGP6',\n",
       " u'AIAGP7',\n",
       " u'AIAGP8',\n",
       " u'AIAGP9',\n",
       " u'AIAGP10',\n",
       " u'AGT1SVY',\n",
       " u'AGT1SVZ',\n",
       " u'AGT2SVY',\n",
       " u'AGT2SVZ',\n",
       " u'AGT3SVY',\n",
       " u'AGT3SVZ',\n",
       " u'AGT4SVY',\n",
       " u'AGT4SVZ',\n",
       " u'AIMGSHEN',\n",
       " u'KEYWDDOC',\n",
       " u'T_REC_index']"
      ]
     },
     "execution_count": 4,
     "metadata": {},
     "output_type": "execute_result"
    }
   ],
   "source": [
    "c.keys('aia.lev1')"
   ]
  },
  {
   "cell_type": "code",
   "execution_count": 5,
   "metadata": {
    "collapsed": true
   },
   "outputs": [],
   "source": [
    "si = c.info('aia.lev1')"
   ]
  },
  {
   "cell_type": "code",
   "execution_count": 6,
   "metadata": {},
   "outputs": [
    {
     "data": {
      "text/html": [
       "<div>\n",
       "<table border=\"1\" class=\"dataframe\">\n",
       "  <thead>\n",
       "    <tr style=\"text-align: right;\">\n",
       "      <th></th>\n",
       "      <th>type</th>\n",
       "      <th>units</th>\n",
       "      <th>protocol</th>\n",
       "      <th>dims</th>\n",
       "      <th>note</th>\n",
       "    </tr>\n",
       "    <tr>\n",
       "      <th>name</th>\n",
       "      <th></th>\n",
       "      <th></th>\n",
       "      <th></th>\n",
       "      <th></th>\n",
       "      <th></th>\n",
       "    </tr>\n",
       "  </thead>\n",
       "  <tbody>\n",
       "    <tr>\n",
       "      <th>image_lev1</th>\n",
       "      <td>short</td>\n",
       "      <td>dn</td>\n",
       "      <td>fits</td>\n",
       "      <td>4096x4096</td>\n",
       "      <td>lev1 image fits file</td>\n",
       "    </tr>\n",
       "    <tr>\n",
       "      <th>bad_pixel</th>\n",
       "      <td>int</td>\n",
       "      <td>location</td>\n",
       "      <td>fits</td>\n",
       "      <td>VAR</td>\n",
       "      <td>bad pixel list</td>\n",
       "    </tr>\n",
       "    <tr>\n",
       "      <th>spikes</th>\n",
       "      <td>int</td>\n",
       "      <td>location</td>\n",
       "      <td>fits</td>\n",
       "      <td>VARxVAR</td>\n",
       "      <td>spiked pixel list</td>\n",
       "    </tr>\n",
       "  </tbody>\n",
       "</table>\n",
       "</div>"
      ],
      "text/plain": [
       "             type     units protocol       dims                  note\n",
       "name                                                                 \n",
       "image_lev1  short        dn     fits  4096x4096  lev1 image fits file\n",
       "bad_pixel     int  location     fits        VAR        bad pixel list\n",
       "spikes        int  location     fits    VARxVAR     spiked pixel list"
      ]
     },
     "execution_count": 6,
     "metadata": {},
     "output_type": "execute_result"
    }
   ],
   "source": [
    "si.segments"
   ]
  },
  {
   "cell_type": "markdown",
   "metadata": {},
   "source": [
    "Untuk memperoleh keyword data, segment data, serta urutan antrian data yang diinginkan bisa menggunakan perintah Client.query(). Query data SHARP harus menyertakan nomor HARP yang berkesesuaian dengan nomor NOAA daerah aktif tertentu. Secara umum HARP mempunyai dua tipe data, definitive dan near real time. Buka laman http://jsoc.stanford.edu/doc/data/hmi/sharp/sharp.htm atau  https://mnurzaman.wordpress.com/ untuk penjelasan lebih lanjut. Kesesuaian nomor HARP dan NOAA dapat dilihat di http://jsoc.stanford.edu/doc/data/hmi/harp/. Berikut ini contoh query data SHARP untuk daerah aktif NOAA 12644 dengan kesesuaian nomor HARP (data near real time) adalah 5485. Perintah 2017.04.03_TAI/1d@6h meminta data satu hari mulai 00:00 UT s.d. 24:00 UT dengan interval 6 jam. Jika perintahnya diubah menjadi 2017.04.03_15:00/3h artinya meminta data mulai 15:00 UT dengan interval data setiap 12 menit (resolusi temporal data HMI adalah 12 menit dan kelipatannya) s.d. 3 jam berikutnya (18:00)."
   ]
  },
  {
   "cell_type": "code",
   "execution_count": 7,
   "metadata": {
    "collapsed": true
   },
   "outputs": [],
   "source": [
    "k = c.query('hmi.sharp_cea_720s_nrt[5485][2017.04.03_TAI/1d@6h]',key='T_REC,T_OBS,TOTUSJH,USFLUX', seg='br')"
   ]
  },
  {
   "cell_type": "code",
   "execution_count": 8,
   "metadata": {},
   "outputs": [
    {
     "data": {
      "text/plain": [
       "(                     T_REC                    T_OBS   TOTUSJH        USFLUX\n",
       " 0  2017.04.03_00:00:00_TAI  2017.04.02_23:59:60_TAI  5292.973  4.802924e+22\n",
       " 1  2017.04.03_06:00:00_TAI  2017.04.03_06:00:00_TAI  5091.237  4.951932e+22\n",
       " 2  2017.04.03_12:00:00_TAI  2017.04.03_11:59:60_TAI  4344.589  5.024389e+22\n",
       " 3  2017.04.03_18:00:00_TAI  2017.04.03_17:59:60_TAI  3898.399  4.597862e+22,\n",
       "                                  br\n",
       " 0  /SUM92/D917838035/S00000/Br.fits\n",
       " 1  /SUM96/D917932083/S00000/Br.fits\n",
       " 2  /SUM87/D918010029/S00000/Br.fits\n",
       " 3  /SUM89/D918090559/S00000/Br.fits)"
      ]
     },
     "execution_count": 8,
     "metadata": {},
     "output_type": "execute_result"
    }
   ],
   "source": [
    "k"
   ]
  },
  {
   "cell_type": "code",
   "execution_count": 9,
   "metadata": {
    "collapsed": true
   },
   "outputs": [],
   "source": [
    "k = c.query('hmi.sharp_cea_720s_nrt[5485][2017.04.03_15:00/3h]',key='T_REC,T_OBS,TOTUSJH,USFLUX')"
   ]
  },
  {
   "cell_type": "code",
   "execution_count": 10,
   "metadata": {},
   "outputs": [
    {
     "data": {
      "text/html": [
       "<div>\n",
       "<table border=\"1\" class=\"dataframe\">\n",
       "  <thead>\n",
       "    <tr style=\"text-align: right;\">\n",
       "      <th></th>\n",
       "      <th>T_REC</th>\n",
       "      <th>T_OBS</th>\n",
       "      <th>TOTUSJH</th>\n",
       "      <th>USFLUX</th>\n",
       "    </tr>\n",
       "  </thead>\n",
       "  <tbody>\n",
       "    <tr>\n",
       "      <th>0</th>\n",
       "      <td>2017.04.03_15:00:00_TAI</td>\n",
       "      <td>2017.04.03_14:59:60_TAI</td>\n",
       "      <td>4218.931</td>\n",
       "      <td>4.923699e+22</td>\n",
       "    </tr>\n",
       "    <tr>\n",
       "      <th>1</th>\n",
       "      <td>2017.04.03_15:12:00_TAI</td>\n",
       "      <td>2017.04.03_15:11:60_TAI</td>\n",
       "      <td>4214.697</td>\n",
       "      <td>4.956146e+22</td>\n",
       "    </tr>\n",
       "    <tr>\n",
       "      <th>2</th>\n",
       "      <td>2017.04.03_15:24:00_TAI</td>\n",
       "      <td>2017.04.03_15:23:60_TAI</td>\n",
       "      <td>4129.768</td>\n",
       "      <td>4.902409e+22</td>\n",
       "    </tr>\n",
       "    <tr>\n",
       "      <th>3</th>\n",
       "      <td>2017.04.03_15:36:00_TAI</td>\n",
       "      <td>2017.04.03_15:35:60_TAI</td>\n",
       "      <td>4041.287</td>\n",
       "      <td>4.902171e+22</td>\n",
       "    </tr>\n",
       "    <tr>\n",
       "      <th>4</th>\n",
       "      <td>2017.04.03_15:48:00_TAI</td>\n",
       "      <td>2017.04.03_15:47:60_TAI</td>\n",
       "      <td>4072.463</td>\n",
       "      <td>4.865948e+22</td>\n",
       "    </tr>\n",
       "    <tr>\n",
       "      <th>5</th>\n",
       "      <td>2017.04.03_16:00:00_TAI</td>\n",
       "      <td>2017.04.03_15:59:60_TAI</td>\n",
       "      <td>4076.159</td>\n",
       "      <td>4.883605e+22</td>\n",
       "    </tr>\n",
       "    <tr>\n",
       "      <th>6</th>\n",
       "      <td>2017.04.03_16:12:00_TAI</td>\n",
       "      <td>2017.04.03_16:11:60_TAI</td>\n",
       "      <td>4150.404</td>\n",
       "      <td>4.902760e+22</td>\n",
       "    </tr>\n",
       "    <tr>\n",
       "      <th>7</th>\n",
       "      <td>2017.04.03_16:24:00_TAI</td>\n",
       "      <td>2017.04.03_16:23:60_TAI</td>\n",
       "      <td>4161.647</td>\n",
       "      <td>4.914032e+22</td>\n",
       "    </tr>\n",
       "    <tr>\n",
       "      <th>8</th>\n",
       "      <td>2017.04.03_16:36:00_TAI</td>\n",
       "      <td>2017.04.03_16:35:60_TAI</td>\n",
       "      <td>4233.243</td>\n",
       "      <td>4.860708e+22</td>\n",
       "    </tr>\n",
       "    <tr>\n",
       "      <th>9</th>\n",
       "      <td>2017.04.03_16:48:00_TAI</td>\n",
       "      <td>2017.04.03_16:47:60_TAI</td>\n",
       "      <td>4122.021</td>\n",
       "      <td>4.891411e+22</td>\n",
       "    </tr>\n",
       "    <tr>\n",
       "      <th>10</th>\n",
       "      <td>2017.04.03_17:00:00_TAI</td>\n",
       "      <td>2017.04.03_16:59:60_TAI</td>\n",
       "      <td>4159.157</td>\n",
       "      <td>4.867615e+22</td>\n",
       "    </tr>\n",
       "    <tr>\n",
       "      <th>11</th>\n",
       "      <td>2017.04.03_17:12:00_TAI</td>\n",
       "      <td>2017.04.03_17:11:60_TAI</td>\n",
       "      <td>4057.350</td>\n",
       "      <td>4.880145e+22</td>\n",
       "    </tr>\n",
       "    <tr>\n",
       "      <th>12</th>\n",
       "      <td>2017.04.03_17:24:00_TAI</td>\n",
       "      <td>2017.04.03_17:23:60_TAI</td>\n",
       "      <td>3941.936</td>\n",
       "      <td>4.843898e+22</td>\n",
       "    </tr>\n",
       "    <tr>\n",
       "      <th>13</th>\n",
       "      <td>2017.04.03_17:36:00_TAI</td>\n",
       "      <td>2017.04.03_17:35:60_TAI</td>\n",
       "      <td>4070.987</td>\n",
       "      <td>4.706863e+22</td>\n",
       "    </tr>\n",
       "    <tr>\n",
       "      <th>14</th>\n",
       "      <td>2017.04.03_17:48:00_TAI</td>\n",
       "      <td>2017.04.03_17:47:60_TAI</td>\n",
       "      <td>4068.073</td>\n",
       "      <td>4.677427e+22</td>\n",
       "    </tr>\n",
       "  </tbody>\n",
       "</table>\n",
       "</div>"
      ],
      "text/plain": [
       "                      T_REC                    T_OBS   TOTUSJH        USFLUX\n",
       "0   2017.04.03_15:00:00_TAI  2017.04.03_14:59:60_TAI  4218.931  4.923699e+22\n",
       "1   2017.04.03_15:12:00_TAI  2017.04.03_15:11:60_TAI  4214.697  4.956146e+22\n",
       "2   2017.04.03_15:24:00_TAI  2017.04.03_15:23:60_TAI  4129.768  4.902409e+22\n",
       "3   2017.04.03_15:36:00_TAI  2017.04.03_15:35:60_TAI  4041.287  4.902171e+22\n",
       "4   2017.04.03_15:48:00_TAI  2017.04.03_15:47:60_TAI  4072.463  4.865948e+22\n",
       "5   2017.04.03_16:00:00_TAI  2017.04.03_15:59:60_TAI  4076.159  4.883605e+22\n",
       "6   2017.04.03_16:12:00_TAI  2017.04.03_16:11:60_TAI  4150.404  4.902760e+22\n",
       "7   2017.04.03_16:24:00_TAI  2017.04.03_16:23:60_TAI  4161.647  4.914032e+22\n",
       "8   2017.04.03_16:36:00_TAI  2017.04.03_16:35:60_TAI  4233.243  4.860708e+22\n",
       "9   2017.04.03_16:48:00_TAI  2017.04.03_16:47:60_TAI  4122.021  4.891411e+22\n",
       "10  2017.04.03_17:00:00_TAI  2017.04.03_16:59:60_TAI  4159.157  4.867615e+22\n",
       "11  2017.04.03_17:12:00_TAI  2017.04.03_17:11:60_TAI  4057.350  4.880145e+22\n",
       "12  2017.04.03_17:24:00_TAI  2017.04.03_17:23:60_TAI  3941.936  4.843898e+22\n",
       "13  2017.04.03_17:36:00_TAI  2017.04.03_17:35:60_TAI  4070.987  4.706863e+22\n",
       "14  2017.04.03_17:48:00_TAI  2017.04.03_17:47:60_TAI  4068.073  4.677427e+22"
      ]
     },
     "execution_count": 10,
     "metadata": {},
     "output_type": "execute_result"
    }
   ],
   "source": [
    "k"
   ]
  },
  {
   "cell_type": "markdown",
   "metadata": {},
   "source": [
    "Contoh lainnya 2017.04.03_10:00/6h@24m yang artinya meminta data mulai 10:00 UT dengan interval data 24 menit s.d. 6 jam berikutnya. "
   ]
  },
  {
   "cell_type": "code",
   "execution_count": 45,
   "metadata": {
    "collapsed": true
   },
   "outputs": [],
   "source": [
    "k = c.query('hmi.sharp_cea_720s_nrt[5500][2017.04.27_10:00/6h@24m]',key='T_REC,T_OBS,USFLUX,TOTUSJH')"
   ]
  },
  {
   "cell_type": "code",
   "execution_count": 46,
   "metadata": {},
   "outputs": [
    {
     "data": {
      "text/html": [
       "<div>\n",
       "<table border=\"1\" class=\"dataframe\">\n",
       "  <thead>\n",
       "    <tr style=\"text-align: right;\">\n",
       "      <th></th>\n",
       "      <th>T_REC</th>\n",
       "      <th>T_OBS</th>\n",
       "      <th>USFLUX</th>\n",
       "      <th>TOTUSJH</th>\n",
       "    </tr>\n",
       "  </thead>\n",
       "  <tbody>\n",
       "    <tr>\n",
       "      <th>0</th>\n",
       "      <td>2017.04.27_10:00:00_TAI</td>\n",
       "      <td>2017.04.27_10:00:03_TAI</td>\n",
       "      <td>1.642525e+22</td>\n",
       "      <td>1686.740</td>\n",
       "    </tr>\n",
       "    <tr>\n",
       "      <th>1</th>\n",
       "      <td>2017.04.27_10:24:00_TAI</td>\n",
       "      <td>2017.04.27_10:24:03_TAI</td>\n",
       "      <td>1.640917e+22</td>\n",
       "      <td>1737.618</td>\n",
       "    </tr>\n",
       "    <tr>\n",
       "      <th>2</th>\n",
       "      <td>2017.04.27_10:48:00_TAI</td>\n",
       "      <td>2017.04.27_10:48:03_TAI</td>\n",
       "      <td>1.635944e+22</td>\n",
       "      <td>1674.165</td>\n",
       "    </tr>\n",
       "    <tr>\n",
       "      <th>3</th>\n",
       "      <td>2017.04.27_11:12:00_TAI</td>\n",
       "      <td>2017.04.27_11:12:03_TAI</td>\n",
       "      <td>1.615735e+22</td>\n",
       "      <td>1703.136</td>\n",
       "    </tr>\n",
       "    <tr>\n",
       "      <th>4</th>\n",
       "      <td>2017.04.27_11:36:00_TAI</td>\n",
       "      <td>2017.04.27_11:36:03_TAI</td>\n",
       "      <td>1.637601e+22</td>\n",
       "      <td>1729.716</td>\n",
       "    </tr>\n",
       "    <tr>\n",
       "      <th>5</th>\n",
       "      <td>2017.04.27_12:00:00_TAI</td>\n",
       "      <td>2017.04.27_12:00:03_TAI</td>\n",
       "      <td>1.605836e+22</td>\n",
       "      <td>1704.708</td>\n",
       "    </tr>\n",
       "    <tr>\n",
       "      <th>6</th>\n",
       "      <td>2017.04.27_12:24:00_TAI</td>\n",
       "      <td>2017.04.27_12:24:03_TAI</td>\n",
       "      <td>1.612186e+22</td>\n",
       "      <td>1707.882</td>\n",
       "    </tr>\n",
       "    <tr>\n",
       "      <th>7</th>\n",
       "      <td>2017.04.27_12:48:00_TAI</td>\n",
       "      <td>2017.04.27_12:48:03_TAI</td>\n",
       "      <td>1.635715e+22</td>\n",
       "      <td>1742.454</td>\n",
       "    </tr>\n",
       "    <tr>\n",
       "      <th>8</th>\n",
       "      <td>2017.04.27_13:12:00_TAI</td>\n",
       "      <td>2017.04.27_13:12:03_TAI</td>\n",
       "      <td>1.623120e+22</td>\n",
       "      <td>1706.392</td>\n",
       "    </tr>\n",
       "    <tr>\n",
       "      <th>9</th>\n",
       "      <td>2017.04.27_13:36:00_TAI</td>\n",
       "      <td>2017.04.27_13:36:03_TAI</td>\n",
       "      <td>1.645134e+22</td>\n",
       "      <td>1707.070</td>\n",
       "    </tr>\n",
       "    <tr>\n",
       "      <th>10</th>\n",
       "      <td>2017.04.27_14:00:00_TAI</td>\n",
       "      <td>2017.04.27_14:00:03_TAI</td>\n",
       "      <td>1.622958e+22</td>\n",
       "      <td>1671.346</td>\n",
       "    </tr>\n",
       "    <tr>\n",
       "      <th>11</th>\n",
       "      <td>2017.04.27_14:24:00_TAI</td>\n",
       "      <td>2017.04.27_14:24:03_TAI</td>\n",
       "      <td>1.619349e+22</td>\n",
       "      <td>1656.727</td>\n",
       "    </tr>\n",
       "    <tr>\n",
       "      <th>12</th>\n",
       "      <td>2017.04.27_14:48:00_TAI</td>\n",
       "      <td>2017.04.27_14:48:03_TAI</td>\n",
       "      <td>1.633979e+22</td>\n",
       "      <td>1649.948</td>\n",
       "    </tr>\n",
       "    <tr>\n",
       "      <th>13</th>\n",
       "      <td>2017.04.27_15:12:00_TAI</td>\n",
       "      <td>2017.04.27_15:12:03_TAI</td>\n",
       "      <td>1.601614e+22</td>\n",
       "      <td>1630.526</td>\n",
       "    </tr>\n",
       "    <tr>\n",
       "      <th>14</th>\n",
       "      <td>2017.04.27_15:36:00_TAI</td>\n",
       "      <td>2017.04.27_15:36:03_TAI</td>\n",
       "      <td>1.659519e+22</td>\n",
       "      <td>1658.186</td>\n",
       "    </tr>\n",
       "  </tbody>\n",
       "</table>\n",
       "</div>"
      ],
      "text/plain": [
       "                      T_REC                    T_OBS        USFLUX   TOTUSJH\n",
       "0   2017.04.27_10:00:00_TAI  2017.04.27_10:00:03_TAI  1.642525e+22  1686.740\n",
       "1   2017.04.27_10:24:00_TAI  2017.04.27_10:24:03_TAI  1.640917e+22  1737.618\n",
       "2   2017.04.27_10:48:00_TAI  2017.04.27_10:48:03_TAI  1.635944e+22  1674.165\n",
       "3   2017.04.27_11:12:00_TAI  2017.04.27_11:12:03_TAI  1.615735e+22  1703.136\n",
       "4   2017.04.27_11:36:00_TAI  2017.04.27_11:36:03_TAI  1.637601e+22  1729.716\n",
       "5   2017.04.27_12:00:00_TAI  2017.04.27_12:00:03_TAI  1.605836e+22  1704.708\n",
       "6   2017.04.27_12:24:00_TAI  2017.04.27_12:24:03_TAI  1.612186e+22  1707.882\n",
       "7   2017.04.27_12:48:00_TAI  2017.04.27_12:48:03_TAI  1.635715e+22  1742.454\n",
       "8   2017.04.27_13:12:00_TAI  2017.04.27_13:12:03_TAI  1.623120e+22  1706.392\n",
       "9   2017.04.27_13:36:00_TAI  2017.04.27_13:36:03_TAI  1.645134e+22  1707.070\n",
       "10  2017.04.27_14:00:00_TAI  2017.04.27_14:00:03_TAI  1.622958e+22  1671.346\n",
       "11  2017.04.27_14:24:00_TAI  2017.04.27_14:24:03_TAI  1.619349e+22  1656.727\n",
       "12  2017.04.27_14:48:00_TAI  2017.04.27_14:48:03_TAI  1.633979e+22  1649.948\n",
       "13  2017.04.27_15:12:00_TAI  2017.04.27_15:12:03_TAI  1.601614e+22  1630.526\n",
       "14  2017.04.27_15:36:00_TAI  2017.04.27_15:36:03_TAI  1.659519e+22  1658.186"
      ]
     },
     "execution_count": 46,
     "metadata": {},
     "output_type": "execute_result"
    }
   ],
   "source": [
    "k"
   ]
  },
  {
   "cell_type": "markdown",
   "metadata": {},
   "source": [
    "Format waktu dalam data HMI mempunyai standar tersendiri (http://drms.readthedocs.io/en/stable/generated/drms.to_datetime.html?highlight=datetime), supaya format waktunya menjadi standar gunakan perintah drms.to_datetime(). "
   ]
  },
  {
   "cell_type": "code",
   "execution_count": 13,
   "metadata": {
    "collapsed": true
   },
   "outputs": [],
   "source": [
    "t = drms.to_datetime(k.T_REC)"
   ]
  },
  {
   "cell_type": "code",
   "execution_count": 14,
   "metadata": {},
   "outputs": [
    {
     "data": {
      "text/plain": [
       "0    2017-04-03 10:00:00\n",
       "1    2017-04-03 10:24:00\n",
       "2    2017-04-03 10:48:00\n",
       "3    2017-04-03 11:12:00\n",
       "4    2017-04-03 11:36:00\n",
       "5    2017-04-03 12:00:00\n",
       "6    2017-04-03 12:24:00\n",
       "7    2017-04-03 12:48:00\n",
       "8    2017-04-03 13:12:00\n",
       "9    2017-04-03 13:36:00\n",
       "10   2017-04-03 14:00:00\n",
       "11   2017-04-03 14:24:00\n",
       "12   2017-04-03 14:48:00\n",
       "13   2017-04-03 15:12:00\n",
       "14   2017-04-03 15:36:00\n",
       "Name: T_REC, dtype: datetime64[ns]"
      ]
     },
     "execution_count": 14,
     "metadata": {},
     "output_type": "execute_result"
    }
   ],
   "source": [
    "t"
   ]
  },
  {
   "cell_type": "markdown",
   "metadata": {},
   "source": [
    "Hampir semua data HMI dan MDI mempunyai standar waktu khusus, yakni menggunakan TAI (perbedaan dengan standar waktu lain bisa dilihat di http://www.leapsecond.com/java/gpsclock.htm).\n",
    "Saat ini python belum mendukung standar waktu TAI. Jika perlu mengubah standar waktu dari TAI ke UTC, bisa menggunakan modul Astropy sebagai berikut:"
   ]
  },
  {
   "cell_type": "code",
   "execution_count": 15,
   "metadata": {
    "collapsed": true
   },
   "outputs": [],
   "source": [
    "from astropy.time import Time\n",
    "ta = Time(t[0], format='datetime', scale='tai')"
   ]
  },
  {
   "cell_type": "code",
   "execution_count": 16,
   "metadata": {},
   "outputs": [
    {
     "data": {
      "text/plain": [
       "<Time object: scale='tai' format='datetime' value=2017-04-03 10:00:00>"
      ]
     },
     "execution_count": 16,
     "metadata": {},
     "output_type": "execute_result"
    }
   ],
   "source": [
    "ta"
   ]
  },
  {
   "cell_type": "code",
   "execution_count": 17,
   "metadata": {},
   "outputs": [
    {
     "data": {
      "text/plain": [
       "<Time object: scale='utc' format='datetime' value=2017-04-03 09:59:24>"
      ]
     },
     "execution_count": 17,
     "metadata": {},
     "output_type": "execute_result"
    }
   ],
   "source": [
    "ta.utc"
   ]
  },
  {
   "cell_type": "markdown",
   "metadata": {},
   "source": [
    "Data SHARP mempunyai segment vektor medan magnet dalam arah radial, phi, dan theta yang disimpan dalam format file FITS. Lokasi dari data SHARP tersebut bisa dilihat menggunakan perintah Client.query()"
   ]
  },
  {
   "cell_type": "code",
   "execution_count": 18,
   "metadata": {},
   "outputs": [],
   "source": [
    "s = c.query('hmi.sharp_cea_720s_nrt[5485][2017.04.03_10:00/1h]', seg='br')"
   ]
  },
  {
   "cell_type": "code",
   "execution_count": 19,
   "metadata": {},
   "outputs": [
    {
     "data": {
      "text/html": [
       "<div>\n",
       "<table border=\"1\" class=\"dataframe\">\n",
       "  <thead>\n",
       "    <tr style=\"text-align: right;\">\n",
       "      <th></th>\n",
       "      <th>br</th>\n",
       "    </tr>\n",
       "  </thead>\n",
       "  <tbody>\n",
       "    <tr>\n",
       "      <th>0</th>\n",
       "      <td>/SUM88/D917979006/S00000/Br.fits</td>\n",
       "    </tr>\n",
       "    <tr>\n",
       "      <th>1</th>\n",
       "      <td>/SUM97/D917980879/S00000/Br.fits</td>\n",
       "    </tr>\n",
       "    <tr>\n",
       "      <th>2</th>\n",
       "      <td>/SUM91/D917981821/S00000/Br.fits</td>\n",
       "    </tr>\n",
       "    <tr>\n",
       "      <th>3</th>\n",
       "      <td>/SUM97/D917985363/S00000/Br.fits</td>\n",
       "    </tr>\n",
       "    <tr>\n",
       "      <th>4</th>\n",
       "      <td>/SUM86/D917986721/S00000/Br.fits</td>\n",
       "    </tr>\n",
       "  </tbody>\n",
       "</table>\n",
       "</div>"
      ],
      "text/plain": [
       "                                 br\n",
       "0  /SUM88/D917979006/S00000/Br.fits\n",
       "1  /SUM97/D917980879/S00000/Br.fits\n",
       "2  /SUM91/D917981821/S00000/Br.fits\n",
       "3  /SUM97/D917985363/S00000/Br.fits\n",
       "4  /SUM86/D917986721/S00000/Br.fits"
      ]
     },
     "execution_count": 19,
     "metadata": {},
     "output_type": "execute_result"
    }
   ],
   "source": [
    "s"
   ]
  },
  {
   "cell_type": "markdown",
   "metadata": {},
   "source": [
    "Data SHARP diatas, tersimpan di server JSOC. Data tersebut bisa diakses dengan menggunakan perintah dari module astropy:"
   ]
  },
  {
   "cell_type": "code",
   "execution_count": 20,
   "metadata": {
    "collapsed": true
   },
   "outputs": [],
   "source": [
    "url = 'http://jsoc.stanford.edu' + s.br[0]"
   ]
  },
  {
   "cell_type": "code",
   "execution_count": 21,
   "metadata": {},
   "outputs": [
    {
     "data": {
      "text/plain": [
       "u'http://jsoc.stanford.edu/SUM88/D917979006/S00000/Br.fits'"
      ]
     },
     "execution_count": 21,
     "metadata": {},
     "output_type": "execute_result"
    }
   ],
   "source": [
    "url"
   ]
  },
  {
   "cell_type": "code",
   "execution_count": 22,
   "metadata": {
    "collapsed": true
   },
   "outputs": [],
   "source": [
    "url1 = 'http://jsoc.stanford.edu' + s.br[1]"
   ]
  },
  {
   "cell_type": "code",
   "execution_count": 23,
   "metadata": {},
   "outputs": [
    {
     "data": {
      "text/plain": [
       "u'http://jsoc.stanford.edu/SUM97/D917980879/S00000/Br.fits'"
      ]
     },
     "execution_count": 23,
     "metadata": {},
     "output_type": "execute_result"
    }
   ],
   "source": [
    " url1"
   ]
  },
  {
   "cell_type": "code",
   "execution_count": 24,
   "metadata": {
    "collapsed": true
   },
   "outputs": [],
   "source": [
    "from astropy.io import fits"
   ]
  },
  {
   "cell_type": "code",
   "execution_count": 25,
   "metadata": {},
   "outputs": [],
   "source": [
    "a = fits.getdata(url)"
   ]
  },
  {
   "cell_type": "code",
   "execution_count": 26,
   "metadata": {},
   "outputs": [
    {
     "name": "stdout",
     "output_type": "stream",
     "text": [
      "((291L, 882L), dtype('float64'))\n"
     ]
    }
   ],
   "source": [
    "print (a.shape, a.dtype)"
   ]
  },
  {
   "cell_type": "markdown",
   "metadata": {},
   "source": [
    "Sebagai catatan, data FITS yang terunduh dengan cara diatas tidak memuat headernya. Jika membutuhkkan data yang memuat header lengkap dengan keyword, maka gunakan c.export()."
   ]
  },
  {
   "cell_type": "markdown",
   "metadata": {},
   "source": [
    "### Permintaan export data"
   ]
  },
  {
   "cell_type": "markdown",
   "metadata": {},
   "source": [
    "Berikut ini contoh export data SHARP. Terlebih dahulu masukkan email pribadi saat memasukkan perintah drms.Client()"
   ]
  },
  {
   "cell_type": "code",
   "execution_count": 27,
   "metadata": {
    "collapsed": true
   },
   "outputs": [],
   "source": [
    "c = drms.Client(email='mzn5412@gmail.com', verbose=True)"
   ]
  },
  {
   "cell_type": "code",
   "execution_count": 28,
   "metadata": {},
   "outputs": [],
   "source": [
    "si = c.info('hmi.sharp_cea_720s_nrt')"
   ]
  },
  {
   "cell_type": "code",
   "execution_count": 29,
   "metadata": {},
   "outputs": [
    {
     "data": {
      "text/plain": [
       "u'nrt Spaceweather HMI Active Region Patch (SHARP): CEA coordinates'"
      ]
     },
     "execution_count": 29,
     "metadata": {},
     "output_type": "execute_result"
    }
   ],
   "source": [
    "si.note"
   ]
  },
  {
   "cell_type": "code",
   "execution_count": 30,
   "metadata": {},
   "outputs": [
    {
     "data": {
      "text/plain": [
       "[u'HARPNUM', u'T_REC']"
      ]
     },
     "execution_count": 30,
     "metadata": {},
     "output_type": "execute_result"
    }
   ],
   "source": [
    "si.primekeys"
   ]
  },
  {
   "cell_type": "markdown",
   "metadata": {},
   "source": [
    "Data SHARP tersebut diatas, mempunyai 11 segment data, sebagai berikut:"
   ]
  },
  {
   "cell_type": "code",
   "execution_count": 31,
   "metadata": {},
   "outputs": [
    {
     "data": {
      "text/plain": [
       "11"
      ]
     },
     "execution_count": 31,
     "metadata": {},
     "output_type": "execute_result"
    }
   ],
   "source": [
    "len(si.segments)"
   ]
  },
  {
   "cell_type": "code",
   "execution_count": 32,
   "metadata": {},
   "outputs": [
    {
     "data": {
      "text/plain": [
       "array([u'magnetogram', u'bitmap', u'Dopplergram', u'continuum', u'Bp',\n",
       "       u'Bt', u'Br', u'Bp_err', u'Bt_err', u'Br_err', u'conf_disambig'], dtype=object)"
      ]
     },
     "execution_count": 32,
     "metadata": {},
     "output_type": "execute_result"
    }
   ],
   "source": [
    "si.segments.index.values"
   ]
  },
  {
   "cell_type": "markdown",
   "metadata": {},
   "source": [
    "Sebagai contoh, dari data tersebut akan dilihat gambar magnetogram, dopplergram, serta vektor medan magnet dalam arah radial, theta, dan phi."
   ]
  },
  {
   "cell_type": "code",
   "execution_count": 33,
   "metadata": {},
   "outputs": [
    {
     "data": {
      "text/html": [
       "<div>\n",
       "<table border=\"1\" class=\"dataframe\">\n",
       "  <thead>\n",
       "    <tr style=\"text-align: right;\">\n",
       "      <th></th>\n",
       "      <th>type</th>\n",
       "      <th>units</th>\n",
       "      <th>protocol</th>\n",
       "      <th>dims</th>\n",
       "      <th>note</th>\n",
       "    </tr>\n",
       "    <tr>\n",
       "      <th>name</th>\n",
       "      <th></th>\n",
       "      <th></th>\n",
       "      <th></th>\n",
       "      <th></th>\n",
       "      <th></th>\n",
       "    </tr>\n",
       "  </thead>\n",
       "  <tbody>\n",
       "    <tr>\n",
       "      <th>Bp</th>\n",
       "      <td>int</td>\n",
       "      <td>Gauss</td>\n",
       "      <td>fits</td>\n",
       "      <td>VARxVAR</td>\n",
       "      <td>B_phi, positive westward</td>\n",
       "    </tr>\n",
       "    <tr>\n",
       "      <th>Br</th>\n",
       "      <td>int</td>\n",
       "      <td>Gauss</td>\n",
       "      <td>fits</td>\n",
       "      <td>VARxVAR</td>\n",
       "      <td>B_r, positive up</td>\n",
       "    </tr>\n",
       "    <tr>\n",
       "      <th>Bt</th>\n",
       "      <td>int</td>\n",
       "      <td>Gauss</td>\n",
       "      <td>fits</td>\n",
       "      <td>VARxVAR</td>\n",
       "      <td>B_theta, positive southward</td>\n",
       "    </tr>\n",
       "    <tr>\n",
       "      <th>magnetogram</th>\n",
       "      <td>int</td>\n",
       "      <td>Gauss</td>\n",
       "      <td>fits</td>\n",
       "      <td>VARxVAR</td>\n",
       "      <td>Line-of-sight magnetogram in CEA projection</td>\n",
       "    </tr>\n",
       "    <tr>\n",
       "      <th>Dopplergram</th>\n",
       "      <td>int</td>\n",
       "      <td>m/s</td>\n",
       "      <td>fits</td>\n",
       "      <td>VARxVAR</td>\n",
       "      <td>Dopplergram in CEA projection</td>\n",
       "    </tr>\n",
       "  </tbody>\n",
       "</table>\n",
       "</div>"
      ],
      "text/plain": [
       "            type  units protocol     dims  \\\n",
       "name                                        \n",
       "Bp           int  Gauss     fits  VARxVAR   \n",
       "Br           int  Gauss     fits  VARxVAR   \n",
       "Bt           int  Gauss     fits  VARxVAR   \n",
       "magnetogram  int  Gauss     fits  VARxVAR   \n",
       "Dopplergram  int    m/s     fits  VARxVAR   \n",
       "\n",
       "                                                    note  \n",
       "name                                                      \n",
       "Bp                              B_phi, positive westward  \n",
       "Br                                      B_r, positive up  \n",
       "Bt                           B_theta, positive southward  \n",
       "magnetogram  Line-of-sight magnetogram in CEA projection  \n",
       "Dopplergram                Dopplergram in CEA projection  "
      ]
     },
     "execution_count": 33,
     "metadata": {},
     "output_type": "execute_result"
    }
   ],
   "source": [
    "si.segments.loc[['Bp','Br','Bt','magnetogram','Dopplergram']]"
   ]
  },
  {
   "cell_type": "markdown",
   "metadata": {},
   "source": [
    "Keterangan VAR dalam kolom dims artinya data tersebut tersimpan dalam FITS dengan dimensi yang bervariasi. Untuk meminta data SHARP daerah aktif NOAA 12644 atau berkesesuaian dengan nomor HARP (data near real time) 5485 pada tanggal 3 April 2017, gunakan perintah berikut ini:"
   ]
  },
  {
   "cell_type": "code",
   "execution_count": 34,
   "metadata": {
    "collapsed": true
   },
   "outputs": [],
   "source": [
    "ds = 'hmi.sharp_cea_720s_nrt[5485][2017.04.03_TAI]{Bp,Br,Bt,magnetogram,Dopplergram}'"
   ]
  },
  {
   "cell_type": "markdown",
   "metadata": {},
   "source": [
    "Jika menginginkan data FITS terunduh lengkap dengan keyword dan headernya, tambahkan protocol='fits' saat membuat perintah c.export()."
   ]
  },
  {
   "cell_type": "code",
   "execution_count": 35,
   "metadata": {},
   "outputs": [],
   "source": [
    "r = c.export(ds,protocol='fits',email='mzn5412@gmail.com')"
   ]
  },
  {
   "cell_type": "code",
   "execution_count": 36,
   "metadata": {},
   "outputs": [
    {
     "data": {
      "text/plain": [
       "<ExportRequest id=\"JSOC_20170427_295\", status=2>"
      ]
     },
     "execution_count": 36,
     "metadata": {},
     "output_type": "execute_result"
    }
   ],
   "source": [
    "r"
   ]
  },
  {
   "cell_type": "code",
   "execution_count": 37,
   "metadata": {},
   "outputs": [
    {
     "name": "stdout",
     "output_type": "stream",
     "text": [
      "Export request pending. [id=\"JSOC_20170427_295\", status=2]\n",
      "Waiting for 2 seconds...\n"
     ]
    },
    {
     "data": {
      "text/plain": [
       "u'http://jsoc.stanford.edu/SUM90/D925880486/S00000'"
      ]
     },
     "execution_count": 37,
     "metadata": {},
     "output_type": "execute_result"
    }
   ],
   "source": [
    "r.request_url"
   ]
  },
  {
   "cell_type": "code",
   "execution_count": 38,
   "metadata": {},
   "outputs": [
    {
     "name": "stdout",
     "output_type": "stream",
     "text": [
      "http://jsoc.stanford.edu/SUM90/D925880486/S00000\n"
     ]
    }
   ],
   "source": [
    "print r.request_url"
   ]
  },
  {
   "cell_type": "markdown",
   "metadata": {},
   "source": [
    "Catat: link unduh di atas bersifat sementara dan akan otomatis terhapus dalam beberapa hari."
   ]
  },
  {
   "cell_type": "markdown",
   "metadata": {},
   "source": [
    "Untuk melakukan export film, ubah protocol menjadi mpg."
   ]
  },
  {
   "cell_type": "code",
   "execution_count": 39,
   "metadata": {
    "collapsed": true
   },
   "outputs": [],
   "source": [
    "ds = 'hmi.sharp_cea_720s_nrt[5485][2017.04.03/12h]{Bp}'"
   ]
  },
  {
   "cell_type": "code",
   "execution_count": 40,
   "metadata": {
    "collapsed": true
   },
   "outputs": [],
   "source": [
    "r = c.export(ds,protocol='mpg',email='mzn5412@gmail.com')"
   ]
  },
  {
   "cell_type": "code",
   "execution_count": 41,
   "metadata": {},
   "outputs": [
    {
     "name": "stdout",
     "output_type": "stream",
     "text": [
      "Export request pending. [id=\"JSOC_20170427_303\", status=2]\n",
      "Waiting for 4 seconds...\n"
     ]
    },
    {
     "data": {
      "text/plain": [
       "u'http://jsoc.stanford.edu/SUM87/D925883792/S00000'"
      ]
     },
     "execution_count": 41,
     "metadata": {},
     "output_type": "execute_result"
    }
   ],
   "source": [
    "r.request_url"
   ]
  },
  {
   "cell_type": "code",
   "execution_count": 42,
   "metadata": {},
   "outputs": [
    {
     "name": "stdout",
     "output_type": "stream",
     "text": [
      "link download klik: http://jsoc.stanford.edu/SUM87/D925883792/S00000\n"
     ]
    }
   ],
   "source": [
    "print 'link download klik:', r.request_url"
   ]
  },
  {
   "cell_type": "markdown",
   "metadata": {},
   "source": [
    "Link unduh di atas juga bersifat sementara, segera unduh sebelum hilang."
   ]
  }
 ],
 "metadata": {
  "kernelspec": {
   "display_name": "Python 3",
   "language": "python",
   "name": "python3"
  },
  "language_info": {
   "codemirror_mode": {
    "name": "ipython",
    "version": 3
   },
   "file_extension": ".py",
   "mimetype": "text/x-python",
   "name": "python",
   "nbconvert_exporter": "python",
   "pygments_lexer": "ipython3",
   "version": "3.7.4"
  }
 },
 "nbformat": 4,
 "nbformat_minor": 2
}
